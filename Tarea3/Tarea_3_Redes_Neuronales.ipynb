{
  "cells": [
    {
      "cell_type": "markdown",
      "metadata": {
        "id": "IJfUNYhP9MAp"
      },
      "source": [
        "# Tarea 3: PINNs, Redes Recurrentes y Transformers"
      ]
    },
    {
      "cell_type": "markdown",
      "metadata": {
        "id": "wpyJZNdR9MAv"
      },
      "source": [
        "En esta Tarea Trabajaremos Con [Pytorch](https://pytorch.org/), una librería de Deep Learning de código abierto desarrollada por Facebook. Pytorch es una librería de Deep Learning que se basa en el concepto de [Tensores](https://pytorch.org/docs/stable/tensors.html), que son similares a los arreglos de Numpy, pero con la diferencia de que pueden ser utilizados en una GPU para acelerar los cálculos.\n",
        "\n",
        "Se escogio Pytorch por sobre Tensorflow o Keras ya que tiene un paquete de [diferenciacion automatica](https://pytorch.org/docs/stable/autograd.html) que nos permite calcular derivadas de forma automatica, lo que nos permite implementar de forma sencilla los modelos de redes neuronales y sobre todo trabajar con PINNs y modificar pequeños detalles de forma sencilla en el lopp de entrenamiento como lo es aplicar custom losses, etc.\n",
        "\n",
        "Dado que la ultima seccion del curso esta enfocado a trabajar con series temporales, todos los problemas en esta tarea de alguna u otra forma estan relacionados con series temporales o secuencias."
      ]
    },
    {
      "cell_type": "markdown",
      "metadata": {
        "id": "39GBRiUw9MAy"
      },
      "source": [
        "# 1. Imports"
      ]
    },
    {
      "cell_type": "code",
      "execution_count": null,
      "metadata": {
        "id": "xAy3xDx59MAz",
        "outputId": "577e627f-5da0-49d6-f5ad-11f42a8a5dea",
        "colab": {
          "base_uri": "https://localhost:8080/"
        }
      },
      "outputs": [
        {
          "output_type": "execute_result",
          "data": {
            "text/plain": [
              "<torch._C.Generator at 0x7d65835ae370>"
            ]
          },
          "metadata": {},
          "execution_count": 1
        }
      ],
      "source": [
        "#data\n",
        "import numpy as np\n",
        "import pandas  as pd\n",
        "\n",
        "# torch\n",
        "import torch\n",
        "import torch.nn as nn\n",
        "import torch.nn.init as init\n",
        "import torch.optim as optim\n",
        "import torch.utils.data as data\n",
        "import torch.nn.functional as F\n",
        "from torch.optim.lr_scheduler import ReduceLROnPlateau\n",
        "\n",
        "# Preprocessing\n",
        "from sklearn.preprocessing import MinMaxScaler\n",
        "\n",
        "# Visualization\n",
        "import seaborn as sns\n",
        "import matplotlib.pyplot as plt\n",
        "import plotly.express as px\n",
        "import plotly.graph_objects as go\n",
        "from plotly.subplots import make_subplots\n",
        "\n",
        "# Evaluation\n",
        "from sklearn.metrics import mean_absolute_error, mean_squared_error, mean_squared_log_error\n",
        "\n",
        "device = 'cuda' if torch.cuda.is_available() else 'cpu'\n",
        "\n",
        "torch.manual_seed(123)"
      ]
    },
    {
      "cell_type": "markdown",
      "metadata": {
        "id": "sUr5ACos9MA1"
      },
      "source": [
        "En esta tarea tenemos 2 Secciones obligatorias, la parte de Redes Recurrentes y la Parte de Transformers, pero como no hay desafio Kaggle se añadio una seccion extra sobre PINNS (Physics Informed Neural Networks) la cual es opcional y sirve como bonus para la nota final."
      ]
    },
    {
      "cell_type": "markdown",
      "metadata": {
        "id": "_su2lc8w9MA1"
      },
      "source": [
        "Dado que no hay desafio Kaggle se incentiva a ser creativos y modificar los codigos, esto tambien añadira un bonus para la tarea."
      ]
    },
    {
      "cell_type": "markdown",
      "source": [
        "#### Descarga de datos\n"
      ],
      "metadata": {
        "id": "Xcx3Arcm9gEr"
      }
    },
    {
      "cell_type": "code",
      "source": [
        "!wget --no-check-certificate 'https://docs.google.com/uc?export=download&id=1h1V3MeECq80s1KY88ZoX4wkwRz0YS1XD' -O DailyClimate_Train.csv\n",
        "!wget --no-check-certificate 'https://docs.google.com/uc?export=download&id=1-D0C3Rh3wZR9GQ3xJionL_fcOF5IbAYZ' -O DailyClimate_test.csv"
      ],
      "metadata": {
        "colab": {
          "base_uri": "https://localhost:8080/"
        },
        "id": "jRms1Uwp9e4g",
        "outputId": "a0251c6a-b12e-40f2-ef69-90d953b743e2"
      },
      "execution_count": null,
      "outputs": [
        {
          "output_type": "stream",
          "name": "stdout",
          "text": [
            "--2023-11-19 18:57:45--  https://docs.google.com/uc?export=download&id=1h1V3MeECq80s1KY88ZoX4wkwRz0YS1XD\n",
            "Resolving docs.google.com (docs.google.com)... 172.217.204.113, 172.217.204.138, 172.217.204.101, ...\n",
            "Connecting to docs.google.com (docs.google.com)|172.217.204.113|:443... connected.\n",
            "HTTP request sent, awaiting response... 303 See Other\n",
            "Location: https://doc-0s-c8-docs.googleusercontent.com/docs/securesc/ha0ro937gcuc7l7deffksulhg5h7mbp1/ds9mr88kh8ceegriilkipnns1mfp60il/1700420250000/15870504552633603898/*/1h1V3MeECq80s1KY88ZoX4wkwRz0YS1XD?e=download&uuid=3bf02e5d-e59e-4367-8798-d83c8c9f8b9e [following]\n",
            "Warning: wildcards not supported in HTTP.\n",
            "--2023-11-19 18:57:45--  https://doc-0s-c8-docs.googleusercontent.com/docs/securesc/ha0ro937gcuc7l7deffksulhg5h7mbp1/ds9mr88kh8ceegriilkipnns1mfp60il/1700420250000/15870504552633603898/*/1h1V3MeECq80s1KY88ZoX4wkwRz0YS1XD?e=download&uuid=3bf02e5d-e59e-4367-8798-d83c8c9f8b9e\n",
            "Resolving doc-0s-c8-docs.googleusercontent.com (doc-0s-c8-docs.googleusercontent.com)... 74.125.134.132, 2607:f8b0:400c:c00::84\n",
            "Connecting to doc-0s-c8-docs.googleusercontent.com (doc-0s-c8-docs.googleusercontent.com)|74.125.134.132|:443... connected.\n",
            "HTTP request sent, awaiting response... 200 OK\n",
            "Length: 78199 (76K) [text/csv]\n",
            "Saving to: ‘DailyClimate_Train.csv’\n",
            "\n",
            "DailyClimate_Train. 100%[===================>]  76.37K  --.-KB/s    in 0.001s  \n",
            "\n",
            "2023-11-19 18:57:45 (99.8 MB/s) - ‘DailyClimate_Train.csv’ saved [78199/78199]\n",
            "\n",
            "--2023-11-19 18:57:46--  https://docs.google.com/uc?export=download&id=1-D0C3Rh3wZR9GQ3xJionL_fcOF5IbAYZ\n",
            "Resolving docs.google.com (docs.google.com)... 172.217.204.113, 172.217.204.138, 172.217.204.101, ...\n",
            "Connecting to docs.google.com (docs.google.com)|172.217.204.113|:443... connected.\n",
            "HTTP request sent, awaiting response... 303 See Other\n",
            "Location: https://doc-00-c8-docs.googleusercontent.com/docs/securesc/ha0ro937gcuc7l7deffksulhg5h7mbp1/ilbsv54at2qegva4qaq1eoicuk2t6hfq/1700420250000/15870504552633603898/*/1-D0C3Rh3wZR9GQ3xJionL_fcOF5IbAYZ?e=download&uuid=06425e50-f5c1-4220-97ae-574dac724532 [following]\n",
            "Warning: wildcards not supported in HTTP.\n",
            "--2023-11-19 18:57:46--  https://doc-00-c8-docs.googleusercontent.com/docs/securesc/ha0ro937gcuc7l7deffksulhg5h7mbp1/ilbsv54at2qegva4qaq1eoicuk2t6hfq/1700420250000/15870504552633603898/*/1-D0C3Rh3wZR9GQ3xJionL_fcOF5IbAYZ?e=download&uuid=06425e50-f5c1-4220-97ae-574dac724532\n",
            "Resolving doc-00-c8-docs.googleusercontent.com (doc-00-c8-docs.googleusercontent.com)... 74.125.134.132, 2607:f8b0:400c:c00::84\n",
            "Connecting to doc-00-c8-docs.googleusercontent.com (doc-00-c8-docs.googleusercontent.com)|74.125.134.132|:443... connected.\n",
            "HTTP request sent, awaiting response... 200 OK\n",
            "Length: 7100 (6.9K) [text/csv]\n",
            "Saving to: ‘DailyClimate_test.csv’\n",
            "\n",
            "DailyClimate_test.c 100%[===================>]   6.93K  --.-KB/s    in 0s      \n",
            "\n",
            "2023-11-19 18:57:46 (35.7 MB/s) - ‘DailyClimate_test.csv’ saved [7100/7100]\n",
            "\n"
          ]
        }
      ]
    },
    {
      "cell_type": "markdown",
      "metadata": {
        "id": "3mwekgry9MA1"
      },
      "source": [
        "# Parte 2: Redes Recurrentes"
      ]
    },
    {
      "cell_type": "markdown",
      "metadata": {
        "id": "yJWKkxYy9MA2"
      },
      "source": [
        "En esta tarea no hay desafio kaggle, por lo que en esta seccion deberan utilizar su creatividad para resolver un problema de series temporales, utilizando redes recurrentes."
      ]
    },
    {
      "cell_type": "markdown",
      "metadata": {
        "id": "sLhswOFO9MA2"
      },
      "source": [
        "## 2.1 Cargar Datos"
      ]
    },
    {
      "cell_type": "code",
      "execution_count": null,
      "metadata": {
        "id": "DwBw3PTs9MA2"
      },
      "outputs": [],
      "source": [
        "train_df = pd.read_csv(\"DailyClimate_Train.csv\")\n",
        "test_df = pd.read_csv(\"DailyClimate_test.csv\")"
      ]
    },
    {
      "cell_type": "markdown",
      "metadata": {
        "id": "bqyDmjuJ9MA3"
      },
      "source": [
        "## 2.2 EDA & data Viz"
      ]
    },
    {
      "cell_type": "markdown",
      "metadata": {
        "id": "XHAdc3GV9MA3"
      },
      "source": [
        "En esta seccion deberan realizar un analisis exploratorio de los datos, generar visualizaciones que les permitan entender mejor los datos con los que estan trabajando y sacar conclusiones de estos."
      ]
    },
    {
      "cell_type": "code",
      "execution_count": null,
      "metadata": {
        "id": "5IaRK2Lx9MA3",
        "colab": {
          "base_uri": "https://localhost:8080/",
          "height": 206
        },
        "outputId": "70877345-96e8-48d1-80d8-8381f1cf6f34"
      },
      "outputs": [
        {
          "output_type": "execute_result",
          "data": {
            "text/plain": [
              "         date   meantemp   humidity  wind_speed  meanpressure\n",
              "0  2013-01-01  10.000000  84.500000    0.000000   1015.666667\n",
              "1  2013-01-02   7.400000  92.000000    2.980000   1017.800000\n",
              "2  2013-01-03   7.166667  87.000000    4.633333   1018.666667\n",
              "3  2013-01-04   8.666667  71.333333    1.233333   1017.166667\n",
              "4  2013-01-05   6.000000  86.833333    3.700000   1016.500000"
            ],
            "text/html": [
              "\n",
              "  <div id=\"df-062924a9-14de-4c66-9777-294bae9c12f8\" class=\"colab-df-container\">\n",
              "    <div>\n",
              "<style scoped>\n",
              "    .dataframe tbody tr th:only-of-type {\n",
              "        vertical-align: middle;\n",
              "    }\n",
              "\n",
              "    .dataframe tbody tr th {\n",
              "        vertical-align: top;\n",
              "    }\n",
              "\n",
              "    .dataframe thead th {\n",
              "        text-align: right;\n",
              "    }\n",
              "</style>\n",
              "<table border=\"1\" class=\"dataframe\">\n",
              "  <thead>\n",
              "    <tr style=\"text-align: right;\">\n",
              "      <th></th>\n",
              "      <th>date</th>\n",
              "      <th>meantemp</th>\n",
              "      <th>humidity</th>\n",
              "      <th>wind_speed</th>\n",
              "      <th>meanpressure</th>\n",
              "    </tr>\n",
              "  </thead>\n",
              "  <tbody>\n",
              "    <tr>\n",
              "      <th>0</th>\n",
              "      <td>2013-01-01</td>\n",
              "      <td>10.000000</td>\n",
              "      <td>84.500000</td>\n",
              "      <td>0.000000</td>\n",
              "      <td>1015.666667</td>\n",
              "    </tr>\n",
              "    <tr>\n",
              "      <th>1</th>\n",
              "      <td>2013-01-02</td>\n",
              "      <td>7.400000</td>\n",
              "      <td>92.000000</td>\n",
              "      <td>2.980000</td>\n",
              "      <td>1017.800000</td>\n",
              "    </tr>\n",
              "    <tr>\n",
              "      <th>2</th>\n",
              "      <td>2013-01-03</td>\n",
              "      <td>7.166667</td>\n",
              "      <td>87.000000</td>\n",
              "      <td>4.633333</td>\n",
              "      <td>1018.666667</td>\n",
              "    </tr>\n",
              "    <tr>\n",
              "      <th>3</th>\n",
              "      <td>2013-01-04</td>\n",
              "      <td>8.666667</td>\n",
              "      <td>71.333333</td>\n",
              "      <td>1.233333</td>\n",
              "      <td>1017.166667</td>\n",
              "    </tr>\n",
              "    <tr>\n",
              "      <th>4</th>\n",
              "      <td>2013-01-05</td>\n",
              "      <td>6.000000</td>\n",
              "      <td>86.833333</td>\n",
              "      <td>3.700000</td>\n",
              "      <td>1016.500000</td>\n",
              "    </tr>\n",
              "  </tbody>\n",
              "</table>\n",
              "</div>\n",
              "    <div class=\"colab-df-buttons\">\n",
              "\n",
              "  <div class=\"colab-df-container\">\n",
              "    <button class=\"colab-df-convert\" onclick=\"convertToInteractive('df-062924a9-14de-4c66-9777-294bae9c12f8')\"\n",
              "            title=\"Convert this dataframe to an interactive table.\"\n",
              "            style=\"display:none;\">\n",
              "\n",
              "  <svg xmlns=\"http://www.w3.org/2000/svg\" height=\"24px\" viewBox=\"0 -960 960 960\">\n",
              "    <path d=\"M120-120v-720h720v720H120Zm60-500h600v-160H180v160Zm220 220h160v-160H400v160Zm0 220h160v-160H400v160ZM180-400h160v-160H180v160Zm440 0h160v-160H620v160ZM180-180h160v-160H180v160Zm440 0h160v-160H620v160Z\"/>\n",
              "  </svg>\n",
              "    </button>\n",
              "\n",
              "  <style>\n",
              "    .colab-df-container {\n",
              "      display:flex;\n",
              "      gap: 12px;\n",
              "    }\n",
              "\n",
              "    .colab-df-convert {\n",
              "      background-color: #E8F0FE;\n",
              "      border: none;\n",
              "      border-radius: 50%;\n",
              "      cursor: pointer;\n",
              "      display: none;\n",
              "      fill: #1967D2;\n",
              "      height: 32px;\n",
              "      padding: 0 0 0 0;\n",
              "      width: 32px;\n",
              "    }\n",
              "\n",
              "    .colab-df-convert:hover {\n",
              "      background-color: #E2EBFA;\n",
              "      box-shadow: 0px 1px 2px rgba(60, 64, 67, 0.3), 0px 1px 3px 1px rgba(60, 64, 67, 0.15);\n",
              "      fill: #174EA6;\n",
              "    }\n",
              "\n",
              "    .colab-df-buttons div {\n",
              "      margin-bottom: 4px;\n",
              "    }\n",
              "\n",
              "    [theme=dark] .colab-df-convert {\n",
              "      background-color: #3B4455;\n",
              "      fill: #D2E3FC;\n",
              "    }\n",
              "\n",
              "    [theme=dark] .colab-df-convert:hover {\n",
              "      background-color: #434B5C;\n",
              "      box-shadow: 0px 1px 3px 1px rgba(0, 0, 0, 0.15);\n",
              "      filter: drop-shadow(0px 1px 2px rgba(0, 0, 0, 0.3));\n",
              "      fill: #FFFFFF;\n",
              "    }\n",
              "  </style>\n",
              "\n",
              "    <script>\n",
              "      const buttonEl =\n",
              "        document.querySelector('#df-062924a9-14de-4c66-9777-294bae9c12f8 button.colab-df-convert');\n",
              "      buttonEl.style.display =\n",
              "        google.colab.kernel.accessAllowed ? 'block' : 'none';\n",
              "\n",
              "      async function convertToInteractive(key) {\n",
              "        const element = document.querySelector('#df-062924a9-14de-4c66-9777-294bae9c12f8');\n",
              "        const dataTable =\n",
              "          await google.colab.kernel.invokeFunction('convertToInteractive',\n",
              "                                                    [key], {});\n",
              "        if (!dataTable) return;\n",
              "\n",
              "        const docLinkHtml = 'Like what you see? Visit the ' +\n",
              "          '<a target=\"_blank\" href=https://colab.research.google.com/notebooks/data_table.ipynb>data table notebook</a>'\n",
              "          + ' to learn more about interactive tables.';\n",
              "        element.innerHTML = '';\n",
              "        dataTable['output_type'] = 'display_data';\n",
              "        await google.colab.output.renderOutput(dataTable, element);\n",
              "        const docLink = document.createElement('div');\n",
              "        docLink.innerHTML = docLinkHtml;\n",
              "        element.appendChild(docLink);\n",
              "      }\n",
              "    </script>\n",
              "  </div>\n",
              "\n",
              "\n",
              "<div id=\"df-8319f7db-e985-47b3-9a85-7801ffdef071\">\n",
              "  <button class=\"colab-df-quickchart\" onclick=\"quickchart('df-8319f7db-e985-47b3-9a85-7801ffdef071')\"\n",
              "            title=\"Suggest charts\"\n",
              "            style=\"display:none;\">\n",
              "\n",
              "<svg xmlns=\"http://www.w3.org/2000/svg\" height=\"24px\"viewBox=\"0 0 24 24\"\n",
              "     width=\"24px\">\n",
              "    <g>\n",
              "        <path d=\"M19 3H5c-1.1 0-2 .9-2 2v14c0 1.1.9 2 2 2h14c1.1 0 2-.9 2-2V5c0-1.1-.9-2-2-2zM9 17H7v-7h2v7zm4 0h-2V7h2v10zm4 0h-2v-4h2v4z\"/>\n",
              "    </g>\n",
              "</svg>\n",
              "  </button>\n",
              "\n",
              "<style>\n",
              "  .colab-df-quickchart {\n",
              "      --bg-color: #E8F0FE;\n",
              "      --fill-color: #1967D2;\n",
              "      --hover-bg-color: #E2EBFA;\n",
              "      --hover-fill-color: #174EA6;\n",
              "      --disabled-fill-color: #AAA;\n",
              "      --disabled-bg-color: #DDD;\n",
              "  }\n",
              "\n",
              "  [theme=dark] .colab-df-quickchart {\n",
              "      --bg-color: #3B4455;\n",
              "      --fill-color: #D2E3FC;\n",
              "      --hover-bg-color: #434B5C;\n",
              "      --hover-fill-color: #FFFFFF;\n",
              "      --disabled-bg-color: #3B4455;\n",
              "      --disabled-fill-color: #666;\n",
              "  }\n",
              "\n",
              "  .colab-df-quickchart {\n",
              "    background-color: var(--bg-color);\n",
              "    border: none;\n",
              "    border-radius: 50%;\n",
              "    cursor: pointer;\n",
              "    display: none;\n",
              "    fill: var(--fill-color);\n",
              "    height: 32px;\n",
              "    padding: 0;\n",
              "    width: 32px;\n",
              "  }\n",
              "\n",
              "  .colab-df-quickchart:hover {\n",
              "    background-color: var(--hover-bg-color);\n",
              "    box-shadow: 0 1px 2px rgba(60, 64, 67, 0.3), 0 1px 3px 1px rgba(60, 64, 67, 0.15);\n",
              "    fill: var(--button-hover-fill-color);\n",
              "  }\n",
              "\n",
              "  .colab-df-quickchart-complete:disabled,\n",
              "  .colab-df-quickchart-complete:disabled:hover {\n",
              "    background-color: var(--disabled-bg-color);\n",
              "    fill: var(--disabled-fill-color);\n",
              "    box-shadow: none;\n",
              "  }\n",
              "\n",
              "  .colab-df-spinner {\n",
              "    border: 2px solid var(--fill-color);\n",
              "    border-color: transparent;\n",
              "    border-bottom-color: var(--fill-color);\n",
              "    animation:\n",
              "      spin 1s steps(1) infinite;\n",
              "  }\n",
              "\n",
              "  @keyframes spin {\n",
              "    0% {\n",
              "      border-color: transparent;\n",
              "      border-bottom-color: var(--fill-color);\n",
              "      border-left-color: var(--fill-color);\n",
              "    }\n",
              "    20% {\n",
              "      border-color: transparent;\n",
              "      border-left-color: var(--fill-color);\n",
              "      border-top-color: var(--fill-color);\n",
              "    }\n",
              "    30% {\n",
              "      border-color: transparent;\n",
              "      border-left-color: var(--fill-color);\n",
              "      border-top-color: var(--fill-color);\n",
              "      border-right-color: var(--fill-color);\n",
              "    }\n",
              "    40% {\n",
              "      border-color: transparent;\n",
              "      border-right-color: var(--fill-color);\n",
              "      border-top-color: var(--fill-color);\n",
              "    }\n",
              "    60% {\n",
              "      border-color: transparent;\n",
              "      border-right-color: var(--fill-color);\n",
              "    }\n",
              "    80% {\n",
              "      border-color: transparent;\n",
              "      border-right-color: var(--fill-color);\n",
              "      border-bottom-color: var(--fill-color);\n",
              "    }\n",
              "    90% {\n",
              "      border-color: transparent;\n",
              "      border-bottom-color: var(--fill-color);\n",
              "    }\n",
              "  }\n",
              "</style>\n",
              "\n",
              "  <script>\n",
              "    async function quickchart(key) {\n",
              "      const quickchartButtonEl =\n",
              "        document.querySelector('#' + key + ' button');\n",
              "      quickchartButtonEl.disabled = true;  // To prevent multiple clicks.\n",
              "      quickchartButtonEl.classList.add('colab-df-spinner');\n",
              "      try {\n",
              "        const charts = await google.colab.kernel.invokeFunction(\n",
              "            'suggestCharts', [key], {});\n",
              "      } catch (error) {\n",
              "        console.error('Error during call to suggestCharts:', error);\n",
              "      }\n",
              "      quickchartButtonEl.classList.remove('colab-df-spinner');\n",
              "      quickchartButtonEl.classList.add('colab-df-quickchart-complete');\n",
              "    }\n",
              "    (() => {\n",
              "      let quickchartButtonEl =\n",
              "        document.querySelector('#df-8319f7db-e985-47b3-9a85-7801ffdef071 button');\n",
              "      quickchartButtonEl.style.display =\n",
              "        google.colab.kernel.accessAllowed ? 'block' : 'none';\n",
              "    })();\n",
              "  </script>\n",
              "</div>\n",
              "    </div>\n",
              "  </div>\n"
            ]
          },
          "metadata": {},
          "execution_count": 52
        }
      ],
      "source": [
        "### Start code here ###\n",
        "train_df.head()"
      ]
    },
    {
      "cell_type": "code",
      "source": [
        "train_df.info()"
      ],
      "metadata": {
        "colab": {
          "base_uri": "https://localhost:8080/"
        },
        "id": "A5FQSjkz1PlE",
        "outputId": "00c5d390-f827-46d4-da78-4e10ebc3423a"
      },
      "execution_count": null,
      "outputs": [
        {
          "output_type": "stream",
          "name": "stdout",
          "text": [
            "<class 'pandas.core.frame.DataFrame'>\n",
            "RangeIndex: 1462 entries, 0 to 1461\n",
            "Data columns (total 5 columns):\n",
            " #   Column        Non-Null Count  Dtype         \n",
            "---  ------        --------------  -----         \n",
            " 0   date          1462 non-null   datetime64[ns]\n",
            " 1   meantemp      1462 non-null   float64       \n",
            " 2   humidity      1462 non-null   float64       \n",
            " 3   wind_speed    1462 non-null   float64       \n",
            " 4   meanpressure  1462 non-null   float64       \n",
            "dtypes: datetime64[ns](1), float64(4)\n",
            "memory usage: 57.2 KB\n"
          ]
        }
      ]
    },
    {
      "cell_type": "code",
      "source": [
        "train_df.describe()"
      ],
      "metadata": {
        "colab": {
          "base_uri": "https://localhost:8080/",
          "height": 300
        },
        "id": "mo1HG8ru1TPP",
        "outputId": "9455905c-6542-4f00-ef65-e57888101f55"
      },
      "execution_count": null,
      "outputs": [
        {
          "output_type": "execute_result",
          "data": {
            "text/plain": [
              "          meantemp     humidity   wind_speed  meanpressure\n",
              "count  1462.000000  1462.000000  1462.000000   1462.000000\n",
              "mean     25.495521    60.771702     6.802209   1011.104548\n",
              "std       7.348103    16.769652     4.561602    180.231668\n",
              "min       6.000000    13.428571     0.000000     -3.041667\n",
              "25%      18.857143    50.375000     3.475000   1001.580357\n",
              "50%      27.714286    62.625000     6.221667   1008.563492\n",
              "75%      31.305804    72.218750     9.238235   1014.944901\n",
              "max      38.714286   100.000000    42.220000   7679.333333"
            ],
            "text/html": [
              "\n",
              "  <div id=\"df-4df95075-e904-4ff0-8f81-365e714da4a1\" class=\"colab-df-container\">\n",
              "    <div>\n",
              "<style scoped>\n",
              "    .dataframe tbody tr th:only-of-type {\n",
              "        vertical-align: middle;\n",
              "    }\n",
              "\n",
              "    .dataframe tbody tr th {\n",
              "        vertical-align: top;\n",
              "    }\n",
              "\n",
              "    .dataframe thead th {\n",
              "        text-align: right;\n",
              "    }\n",
              "</style>\n",
              "<table border=\"1\" class=\"dataframe\">\n",
              "  <thead>\n",
              "    <tr style=\"text-align: right;\">\n",
              "      <th></th>\n",
              "      <th>meantemp</th>\n",
              "      <th>humidity</th>\n",
              "      <th>wind_speed</th>\n",
              "      <th>meanpressure</th>\n",
              "    </tr>\n",
              "  </thead>\n",
              "  <tbody>\n",
              "    <tr>\n",
              "      <th>count</th>\n",
              "      <td>1462.000000</td>\n",
              "      <td>1462.000000</td>\n",
              "      <td>1462.000000</td>\n",
              "      <td>1462.000000</td>\n",
              "    </tr>\n",
              "    <tr>\n",
              "      <th>mean</th>\n",
              "      <td>25.495521</td>\n",
              "      <td>60.771702</td>\n",
              "      <td>6.802209</td>\n",
              "      <td>1011.104548</td>\n",
              "    </tr>\n",
              "    <tr>\n",
              "      <th>std</th>\n",
              "      <td>7.348103</td>\n",
              "      <td>16.769652</td>\n",
              "      <td>4.561602</td>\n",
              "      <td>180.231668</td>\n",
              "    </tr>\n",
              "    <tr>\n",
              "      <th>min</th>\n",
              "      <td>6.000000</td>\n",
              "      <td>13.428571</td>\n",
              "      <td>0.000000</td>\n",
              "      <td>-3.041667</td>\n",
              "    </tr>\n",
              "    <tr>\n",
              "      <th>25%</th>\n",
              "      <td>18.857143</td>\n",
              "      <td>50.375000</td>\n",
              "      <td>3.475000</td>\n",
              "      <td>1001.580357</td>\n",
              "    </tr>\n",
              "    <tr>\n",
              "      <th>50%</th>\n",
              "      <td>27.714286</td>\n",
              "      <td>62.625000</td>\n",
              "      <td>6.221667</td>\n",
              "      <td>1008.563492</td>\n",
              "    </tr>\n",
              "    <tr>\n",
              "      <th>75%</th>\n",
              "      <td>31.305804</td>\n",
              "      <td>72.218750</td>\n",
              "      <td>9.238235</td>\n",
              "      <td>1014.944901</td>\n",
              "    </tr>\n",
              "    <tr>\n",
              "      <th>max</th>\n",
              "      <td>38.714286</td>\n",
              "      <td>100.000000</td>\n",
              "      <td>42.220000</td>\n",
              "      <td>7679.333333</td>\n",
              "    </tr>\n",
              "  </tbody>\n",
              "</table>\n",
              "</div>\n",
              "    <div class=\"colab-df-buttons\">\n",
              "\n",
              "  <div class=\"colab-df-container\">\n",
              "    <button class=\"colab-df-convert\" onclick=\"convertToInteractive('df-4df95075-e904-4ff0-8f81-365e714da4a1')\"\n",
              "            title=\"Convert this dataframe to an interactive table.\"\n",
              "            style=\"display:none;\">\n",
              "\n",
              "  <svg xmlns=\"http://www.w3.org/2000/svg\" height=\"24px\" viewBox=\"0 -960 960 960\">\n",
              "    <path d=\"M120-120v-720h720v720H120Zm60-500h600v-160H180v160Zm220 220h160v-160H400v160Zm0 220h160v-160H400v160ZM180-400h160v-160H180v160Zm440 0h160v-160H620v160ZM180-180h160v-160H180v160Zm440 0h160v-160H620v160Z\"/>\n",
              "  </svg>\n",
              "    </button>\n",
              "\n",
              "  <style>\n",
              "    .colab-df-container {\n",
              "      display:flex;\n",
              "      gap: 12px;\n",
              "    }\n",
              "\n",
              "    .colab-df-convert {\n",
              "      background-color: #E8F0FE;\n",
              "      border: none;\n",
              "      border-radius: 50%;\n",
              "      cursor: pointer;\n",
              "      display: none;\n",
              "      fill: #1967D2;\n",
              "      height: 32px;\n",
              "      padding: 0 0 0 0;\n",
              "      width: 32px;\n",
              "    }\n",
              "\n",
              "    .colab-df-convert:hover {\n",
              "      background-color: #E2EBFA;\n",
              "      box-shadow: 0px 1px 2px rgba(60, 64, 67, 0.3), 0px 1px 3px 1px rgba(60, 64, 67, 0.15);\n",
              "      fill: #174EA6;\n",
              "    }\n",
              "\n",
              "    .colab-df-buttons div {\n",
              "      margin-bottom: 4px;\n",
              "    }\n",
              "\n",
              "    [theme=dark] .colab-df-convert {\n",
              "      background-color: #3B4455;\n",
              "      fill: #D2E3FC;\n",
              "    }\n",
              "\n",
              "    [theme=dark] .colab-df-convert:hover {\n",
              "      background-color: #434B5C;\n",
              "      box-shadow: 0px 1px 3px 1px rgba(0, 0, 0, 0.15);\n",
              "      filter: drop-shadow(0px 1px 2px rgba(0, 0, 0, 0.3));\n",
              "      fill: #FFFFFF;\n",
              "    }\n",
              "  </style>\n",
              "\n",
              "    <script>\n",
              "      const buttonEl =\n",
              "        document.querySelector('#df-4df95075-e904-4ff0-8f81-365e714da4a1 button.colab-df-convert');\n",
              "      buttonEl.style.display =\n",
              "        google.colab.kernel.accessAllowed ? 'block' : 'none';\n",
              "\n",
              "      async function convertToInteractive(key) {\n",
              "        const element = document.querySelector('#df-4df95075-e904-4ff0-8f81-365e714da4a1');\n",
              "        const dataTable =\n",
              "          await google.colab.kernel.invokeFunction('convertToInteractive',\n",
              "                                                    [key], {});\n",
              "        if (!dataTable) return;\n",
              "\n",
              "        const docLinkHtml = 'Like what you see? Visit the ' +\n",
              "          '<a target=\"_blank\" href=https://colab.research.google.com/notebooks/data_table.ipynb>data table notebook</a>'\n",
              "          + ' to learn more about interactive tables.';\n",
              "        element.innerHTML = '';\n",
              "        dataTable['output_type'] = 'display_data';\n",
              "        await google.colab.output.renderOutput(dataTable, element);\n",
              "        const docLink = document.createElement('div');\n",
              "        docLink.innerHTML = docLinkHtml;\n",
              "        element.appendChild(docLink);\n",
              "      }\n",
              "    </script>\n",
              "  </div>\n",
              "\n",
              "\n",
              "<div id=\"df-f6f07840-fb22-4874-a220-7132224b289e\">\n",
              "  <button class=\"colab-df-quickchart\" onclick=\"quickchart('df-f6f07840-fb22-4874-a220-7132224b289e')\"\n",
              "            title=\"Suggest charts\"\n",
              "            style=\"display:none;\">\n",
              "\n",
              "<svg xmlns=\"http://www.w3.org/2000/svg\" height=\"24px\"viewBox=\"0 0 24 24\"\n",
              "     width=\"24px\">\n",
              "    <g>\n",
              "        <path d=\"M19 3H5c-1.1 0-2 .9-2 2v14c0 1.1.9 2 2 2h14c1.1 0 2-.9 2-2V5c0-1.1-.9-2-2-2zM9 17H7v-7h2v7zm4 0h-2V7h2v10zm4 0h-2v-4h2v4z\"/>\n",
              "    </g>\n",
              "</svg>\n",
              "  </button>\n",
              "\n",
              "<style>\n",
              "  .colab-df-quickchart {\n",
              "      --bg-color: #E8F0FE;\n",
              "      --fill-color: #1967D2;\n",
              "      --hover-bg-color: #E2EBFA;\n",
              "      --hover-fill-color: #174EA6;\n",
              "      --disabled-fill-color: #AAA;\n",
              "      --disabled-bg-color: #DDD;\n",
              "  }\n",
              "\n",
              "  [theme=dark] .colab-df-quickchart {\n",
              "      --bg-color: #3B4455;\n",
              "      --fill-color: #D2E3FC;\n",
              "      --hover-bg-color: #434B5C;\n",
              "      --hover-fill-color: #FFFFFF;\n",
              "      --disabled-bg-color: #3B4455;\n",
              "      --disabled-fill-color: #666;\n",
              "  }\n",
              "\n",
              "  .colab-df-quickchart {\n",
              "    background-color: var(--bg-color);\n",
              "    border: none;\n",
              "    border-radius: 50%;\n",
              "    cursor: pointer;\n",
              "    display: none;\n",
              "    fill: var(--fill-color);\n",
              "    height: 32px;\n",
              "    padding: 0;\n",
              "    width: 32px;\n",
              "  }\n",
              "\n",
              "  .colab-df-quickchart:hover {\n",
              "    background-color: var(--hover-bg-color);\n",
              "    box-shadow: 0 1px 2px rgba(60, 64, 67, 0.3), 0 1px 3px 1px rgba(60, 64, 67, 0.15);\n",
              "    fill: var(--button-hover-fill-color);\n",
              "  }\n",
              "\n",
              "  .colab-df-quickchart-complete:disabled,\n",
              "  .colab-df-quickchart-complete:disabled:hover {\n",
              "    background-color: var(--disabled-bg-color);\n",
              "    fill: var(--disabled-fill-color);\n",
              "    box-shadow: none;\n",
              "  }\n",
              "\n",
              "  .colab-df-spinner {\n",
              "    border: 2px solid var(--fill-color);\n",
              "    border-color: transparent;\n",
              "    border-bottom-color: var(--fill-color);\n",
              "    animation:\n",
              "      spin 1s steps(1) infinite;\n",
              "  }\n",
              "\n",
              "  @keyframes spin {\n",
              "    0% {\n",
              "      border-color: transparent;\n",
              "      border-bottom-color: var(--fill-color);\n",
              "      border-left-color: var(--fill-color);\n",
              "    }\n",
              "    20% {\n",
              "      border-color: transparent;\n",
              "      border-left-color: var(--fill-color);\n",
              "      border-top-color: var(--fill-color);\n",
              "    }\n",
              "    30% {\n",
              "      border-color: transparent;\n",
              "      border-left-color: var(--fill-color);\n",
              "      border-top-color: var(--fill-color);\n",
              "      border-right-color: var(--fill-color);\n",
              "    }\n",
              "    40% {\n",
              "      border-color: transparent;\n",
              "      border-right-color: var(--fill-color);\n",
              "      border-top-color: var(--fill-color);\n",
              "    }\n",
              "    60% {\n",
              "      border-color: transparent;\n",
              "      border-right-color: var(--fill-color);\n",
              "    }\n",
              "    80% {\n",
              "      border-color: transparent;\n",
              "      border-right-color: var(--fill-color);\n",
              "      border-bottom-color: var(--fill-color);\n",
              "    }\n",
              "    90% {\n",
              "      border-color: transparent;\n",
              "      border-bottom-color: var(--fill-color);\n",
              "    }\n",
              "  }\n",
              "</style>\n",
              "\n",
              "  <script>\n",
              "    async function quickchart(key) {\n",
              "      const quickchartButtonEl =\n",
              "        document.querySelector('#' + key + ' button');\n",
              "      quickchartButtonEl.disabled = true;  // To prevent multiple clicks.\n",
              "      quickchartButtonEl.classList.add('colab-df-spinner');\n",
              "      try {\n",
              "        const charts = await google.colab.kernel.invokeFunction(\n",
              "            'suggestCharts', [key], {});\n",
              "      } catch (error) {\n",
              "        console.error('Error during call to suggestCharts:', error);\n",
              "      }\n",
              "      quickchartButtonEl.classList.remove('colab-df-spinner');\n",
              "      quickchartButtonEl.classList.add('colab-df-quickchart-complete');\n",
              "    }\n",
              "    (() => {\n",
              "      let quickchartButtonEl =\n",
              "        document.querySelector('#df-f6f07840-fb22-4874-a220-7132224b289e button');\n",
              "      quickchartButtonEl.style.display =\n",
              "        google.colab.kernel.accessAllowed ? 'block' : 'none';\n",
              "    })();\n",
              "  </script>\n",
              "</div>\n",
              "    </div>\n",
              "  </div>\n"
            ]
          },
          "metadata": {},
          "execution_count": 54
        }
      ]
    },
    {
      "cell_type": "code",
      "source": [
        "#Cambiar formato de tiempo\n",
        "train_df.date = pd.to_datetime(train_df.date)\n",
        "time = train_df.date.dt.strftime('%d/%m/%y')"
      ],
      "metadata": {
        "id": "BOq4kJnG4xXQ"
      },
      "execution_count": null,
      "outputs": []
    },
    {
      "cell_type": "code",
      "execution_count": null,
      "metadata": {
        "id": "eLLqQCsh9MA3",
        "outputId": "af616d75-57b4-417f-af27-e8fb0ae8056b",
        "colab": {
          "base_uri": "https://localhost:8080/",
          "height": 454
        }
      },
      "outputs": [
        {
          "output_type": "display_data",
          "data": {
            "text/plain": [
              "<Figure size 640x480 with 4 Axes>"
            ],
            "image/png": "[encoded data removed]"
          },
          "metadata": {}
        }
      ],
      "source": [
        "#Graficos de ejemplo\n",
        "plot_cols = ['meantemp', 'humidity', 'wind_speed', 'meanpressure']\n",
        "plot_features = train_df[plot_cols]\n",
        "plot_features.index = time\n",
        "_ = plot_features.plot(subplots=True)"
      ]
    },
    {
      "cell_type": "code",
      "source": [
        "train_df.loc[train_df[\"meanpressure\"] > 7000]"
      ],
      "metadata": {
        "colab": {
          "base_uri": "https://localhost:8080/",
          "height": 81
        },
        "id": "Z3W4PEor6UvK",
        "outputId": "9db7ef89-9c35-46ed-8c12-9e92a8d65763"
      },
      "execution_count": null,
      "outputs": [
        {
          "output_type": "execute_result",
          "data": {
            "text/plain": [
              "       meantemp  humidity  wind_speed  meanpressure\n",
              "1182  25.933333      52.8    6.546667   7679.333333"
            ],
            "text/html": [
              "\n",
              "  <div id=\"df-41ee0272-c215-414b-8c83-376f9dcfb947\" class=\"colab-df-container\">\n",
              "    <div>\n",
              "<style scoped>\n",
              "    .dataframe tbody tr th:only-of-type {\n",
              "        vertical-align: middle;\n",
              "    }\n",
              "\n",
              "    .dataframe tbody tr th {\n",
              "        vertical-align: top;\n",
              "    }\n",
              "\n",
              "    .dataframe thead th {\n",
              "        text-align: right;\n",
              "    }\n",
              "</style>\n",
              "<table border=\"1\" class=\"dataframe\">\n",
              "  <thead>\n",
              "    <tr style=\"text-align: right;\">\n",
              "      <th></th>\n",
              "      <th>meantemp</th>\n",
              "      <th>humidity</th>\n",
              "      <th>wind_speed</th>\n",
              "      <th>meanpressure</th>\n",
              "    </tr>\n",
              "  </thead>\n",
              "  <tbody>\n",
              "    <tr>\n",
              "      <th>1182</th>\n",
              "      <td>25.933333</td>\n",
              "      <td>52.8</td>\n",
              "      <td>6.546667</td>\n",
              "      <td>7679.333333</td>\n",
              "    </tr>\n",
              "  </tbody>\n",
              "</table>\n",
              "</div>\n",
              "    <div class=\"colab-df-buttons\">\n",
              "\n",
              "  <div class=\"colab-df-container\">\n",
              "    <button class=\"colab-df-convert\" onclick=\"convertToInteractive('df-41ee0272-c215-414b-8c83-376f9dcfb947')\"\n",
              "            title=\"Convert this dataframe to an interactive table.\"\n",
              "            style=\"display:none;\">\n",
              "\n",
              "  <svg xmlns=\"http://www.w3.org/2000/svg\" height=\"24px\" viewBox=\"0 -960 960 960\">\n",
              "    <path d=\"M120-120v-720h720v720H120Zm60-500h600v-160H180v160Zm220 220h160v-160H400v160Zm0 220h160v-160H400v160ZM180-400h160v-160H180v160Zm440 0h160v-160H620v160ZM180-180h160v-160H180v160Zm440 0h160v-160H620v160Z\"/>\n",
              "  </svg>\n",
              "    </button>\n",
              "\n",
              "  <style>\n",
              "    .colab-df-container {\n",
              "      display:flex;\n",
              "      gap: 12px;\n",
              "    }\n",
              "\n",
              "    .colab-df-convert {\n",
              "      background-color: #E8F0FE;\n",
              "      border: none;\n",
              "      border-radius: 50%;\n",
              "      cursor: pointer;\n",
              "      display: none;\n",
              "      fill: #1967D2;\n",
              "      height: 32px;\n",
              "      padding: 0 0 0 0;\n",
              "      width: 32px;\n",
              "    }\n",
              "\n",
              "    .colab-df-convert:hover {\n",
              "      background-color: #E2EBFA;\n",
              "      box-shadow: 0px 1px 2px rgba(60, 64, 67, 0.3), 0px 1px 3px 1px rgba(60, 64, 67, 0.15);\n",
              "      fill: #174EA6;\n",
              "    }\n",
              "\n",
              "    .colab-df-buttons div {\n",
              "      margin-bottom: 4px;\n",
              "    }\n",
              "\n",
              "    [theme=dark] .colab-df-convert {\n",
              "      background-color: #3B4455;\n",
              "      fill: #D2E3FC;\n",
              "    }\n",
              "\n",
              "    [theme=dark] .colab-df-convert:hover {\n",
              "      background-color: #434B5C;\n",
              "      box-shadow: 0px 1px 3px 1px rgba(0, 0, 0, 0.15);\n",
              "      filter: drop-shadow(0px 1px 2px rgba(0, 0, 0, 0.3));\n",
              "      fill: #FFFFFF;\n",
              "    }\n",
              "  </style>\n",
              "\n",
              "    <script>\n",
              "      const buttonEl =\n",
              "        document.querySelector('#df-41ee0272-c215-414b-8c83-376f9dcfb947 button.colab-df-convert');\n",
              "      buttonEl.style.display =\n",
              "        google.colab.kernel.accessAllowed ? 'block' : 'none';\n",
              "\n",
              "      async function convertToInteractive(key) {\n",
              "        const element = document.querySelector('#df-41ee0272-c215-414b-8c83-376f9dcfb947');\n",
              "        const dataTable =\n",
              "          await google.colab.kernel.invokeFunction('convertToInteractive',\n",
              "                                                    [key], {});\n",
              "        if (!dataTable) return;\n",
              "\n",
              "        const docLinkHtml = 'Like what you see? Visit the ' +\n",
              "          '<a target=\"_blank\" href=https://colab.research.google.com/notebooks/data_table.ipynb>data table notebook</a>'\n",
              "          + ' to learn more about interactive tables.';\n",
              "        element.innerHTML = '';\n",
              "        dataTable['output_type'] = 'display_data';\n",
              "        await google.colab.output.renderOutput(dataTable, element);\n",
              "        const docLink = document.createElement('div');\n",
              "        docLink.innerHTML = docLinkHtml;\n",
              "        element.appendChild(docLink);\n",
              "      }\n",
              "    </script>\n",
              "  </div>\n",
              "\n",
              "    </div>\n",
              "  </div>\n"
            ]
          },
          "metadata": {},
          "execution_count": 24
        }
      ]
    },
    {
      "cell_type": "code",
      "source": [
        "boxplot = train_df.boxplot(column=['meanpressure'])"
      ],
      "metadata": {
        "colab": {
          "base_uri": "https://localhost:8080/",
          "height": 433
        },
        "id": "N6dOpyZ55aYN",
        "outputId": "e17b3f2f-a5b4-4c2a-a1c0-072d80ecced4"
      },
      "execution_count": null,
      "outputs": [
        {
          "output_type": "display_data",
          "data": {
            "text/plain": [
              "<Figure size 640x480 with 1 Axes>"
            ],
            "image/png": "[encoded data removed]"
          },
          "metadata": {}
        }
      ]
    },
    {
      "cell_type": "markdown",
      "metadata": {
        "id": "qR9tWmE99MA3"
      },
      "source": [
        "## 2.3 Preprocesamiento"
      ]
    },
    {
      "cell_type": "markdown",
      "metadata": {
        "id": "H4bnlArH9MA4"
      },
      "source": [
        "En esta seccion deberan aplicar las transformaciones necesarias a los datos para poder entrenar su modelo, crear columnas, eliminar columnas, escalar los datos, etc."
      ]
    },
    {
      "cell_type": "code",
      "source": [
        "time = pd.to_datetime(time)\n",
        "timestamp_s = time.map(pd.Timestamp.timestamp)"
      ],
      "metadata": {
        "id": "T3HlHW0_AjD2"
      },
      "execution_count": null,
      "outputs": []
    },
    {
      "cell_type": "code",
      "source": [
        "day = 24*60*60\n",
        "month = day*30\n",
        "year = (365.2425)*day\n",
        "\n",
        "train_df['day_sin'] = np.sin(timestamp_s * (2 * np.pi / day))\n",
        "train_df['day_cos'] = np.cos(timestamp_s * (2 * np.pi / day))\n",
        "train_df['month_sin'] = np.sin(timestamp_s * (2 * np.pi / month))\n",
        "train_df['month_cos'] = np.cos(timestamp_s * (2 * np.pi / month))\n",
        "train_df['year_sin'] = np.sin(timestamp_s * (2 * np.pi / year))\n",
        "train_df['year_cos'] = np.cos(timestamp_s * (2 * np.pi / year))\n",
        "\n",
        "train_df.pop('date')"
      ],
      "metadata": {
        "colab": {
          "base_uri": "https://localhost:8080/"
        },
        "id": "4zpLuPHBRLFQ",
        "outputId": "87bac775-9698-405c-d552-9312b0651346"
      },
      "execution_count": null,
      "outputs": [
        {
          "output_type": "execute_result",
          "data": {
            "text/plain": [
              "0      2013-01-01\n",
              "1      2013-01-02\n",
              "2      2013-01-03\n",
              "3      2013-01-04\n",
              "4      2013-01-05\n",
              "          ...    \n",
              "1457   2016-12-28\n",
              "1458   2016-12-29\n",
              "1459   2016-12-30\n",
              "1460   2016-12-31\n",
              "1461   2017-01-01\n",
              "Name: date, Length: 1462, dtype: datetime64[ns]"
            ]
          },
          "metadata": {},
          "execution_count": 103
        }
      ]
    },
    {
      "cell_type": "code",
      "source": [
        "train_mean = train_df.mean()\n",
        "train_std = train_df.std()\n",
        "\n",
        "train_df = (train_df - train_mean) / train_std"
      ],
      "metadata": {
        "id": "1qeztmGrSxmL"
      },
      "execution_count": null,
      "outputs": []
    },
    {
      "cell_type": "code",
      "source": [
        "train_df"
      ],
      "metadata": {
        "colab": {
          "base_uri": "https://localhost:8080/",
          "height": 424
        },
        "id": "fknJ0IvNRlDV",
        "outputId": "9b2f9233-dfc3-4de1-9ad9-2010afbf4cb8"
      },
      "execution_count": null,
      "outputs": [
        {
          "output_type": "execute_result",
          "data": {
            "text/plain": [
              "      meantemp  humidity  wind_speed  meanpressure   day_sin  day_cos  \\\n",
              "0    -2.108778  1.414955   -1.491189      0.025313 -0.585807      NaN   \n",
              "1    -2.462611  1.862191   -0.837909      0.037149 -0.041663      NaN   \n",
              "2    -2.494366  1.564034   -0.475464      0.041958  0.896484      NaN   \n",
              "3    -2.290231  0.629806   -1.220816      0.033635  1.440629      NaN   \n",
              "4    -2.653137  1.554095   -0.680070      0.029936  0.962231      NaN   \n",
              "...        ...       ...         ...           ...       ...      ...   \n",
              "1457 -1.126567  0.433627   -0.713430      0.024750  0.757563      NaN   \n",
              "1458 -1.395928  1.615146   -0.175861      0.032182 -1.681526      NaN   \n",
              "1459 -1.551459  1.723051   -0.117402      0.037730 -0.658983      NaN   \n",
              "1460 -1.421168  1.564034    0.114607      0.027717  0.363560      NaN   \n",
              "1461 -2.108778  2.339243   -1.491189      0.027162  1.386102      NaN   \n",
              "\n",
              "      month_sin  month_cos  year_sin  year_cos  \n",
              "0     -0.289284  -1.388201  0.013918  1.412169  \n",
              "1     -0.570324  -1.296854  0.730894  1.208863  \n",
              "2      0.004599  -1.419100  1.208613  0.732839  \n",
              "3     -0.289284  -1.388201  1.414104  0.016949  \n",
              "4     -0.289284  -1.388201  1.238789 -0.682730  \n",
              "...         ...        ...       ...       ...  \n",
              "1457   0.835436   1.138832 -0.082620  1.409824  \n",
              "1458   1.055037   0.941034 -0.058321  1.411035  \n",
              "1459   1.228729   0.701885 -0.034006  1.411829  \n",
              "1460   1.348921   0.431837 -0.009681  1.412204  \n",
              "1461   1.410359   0.142692  0.014648  1.412161  \n",
              "\n",
              "[1462 rows x 10 columns]"
            ],
            "text/html": [
              "\n",
              "  <div id=\"df-b08fd64d-af2a-4b1c-bf0d-e87b0fd82236\" class=\"colab-df-container\">\n",
              "    <div>\n",
              "<style scoped>\n",
              "    .dataframe tbody tr th:only-of-type {\n",
              "        vertical-align: middle;\n",
              "    }\n",
              "\n",
              "    .dataframe tbody tr th {\n",
              "        vertical-align: top;\n",
              "    }\n",
              "\n",
              "    .dataframe thead th {\n",
              "        text-align: right;\n",
              "    }\n",
              "</style>\n",
              "<table border=\"1\" class=\"dataframe\">\n",
              "  <thead>\n",
              "    <tr style=\"text-align: right;\">\n",
              "      <th></th>\n",
              "      <th>meantemp</th>\n",
              "      <th>humidity</th>\n",
              "      <th>wind_speed</th>\n",
              "      <th>meanpressure</th>\n",
              "      <th>day_sin</th>\n",
              "      <th>day_cos</th>\n",
              "      <th>month_sin</th>\n",
              "      <th>month_cos</th>\n",
              "      <th>year_sin</th>\n",
              "      <th>year_cos</th>\n",
              "    </tr>\n",
              "  </thead>\n",
              "  <tbody>\n",
              "    <tr>\n",
              "      <th>0</th>\n",
              "      <td>-2.108778</td>\n",
              "      <td>1.414955</td>\n",
              "      <td>-1.491189</td>\n",
              "      <td>0.025313</td>\n",
              "      <td>-0.585807</td>\n",
              "      <td>NaN</td>\n",
              "      <td>-0.289284</td>\n",
              "      <td>-1.388201</td>\n",
              "      <td>0.013918</td>\n",
              "      <td>1.412169</td>\n",
              "    </tr>\n",
              "    <tr>\n",
              "      <th>1</th>\n",
              "      <td>-2.462611</td>\n",
              "      <td>1.862191</td>\n",
              "      <td>-0.837909</td>\n",
              "      <td>0.037149</td>\n",
              "      <td>-0.041663</td>\n",
              "      <td>NaN</td>\n",
              "      <td>-0.570324</td>\n",
              "      <td>-1.296854</td>\n",
              "      <td>0.730894</td>\n",
              "      <td>1.208863</td>\n",
              "    </tr>\n",
              "    <tr>\n",
              "      <th>2</th>\n",
              "      <td>-2.494366</td>\n",
              "      <td>1.564034</td>\n",
              "      <td>-0.475464</td>\n",
              "      <td>0.041958</td>\n",
              "      <td>0.896484</td>\n",
              "      <td>NaN</td>\n",
              "      <td>0.004599</td>\n",
              "      <td>-1.419100</td>\n",
              "      <td>1.208613</td>\n",
              "      <td>0.732839</td>\n",
              "    </tr>\n",
              "    <tr>\n",
              "      <th>3</th>\n",
              "      <td>-2.290231</td>\n",
              "      <td>0.629806</td>\n",
              "      <td>-1.220816</td>\n",
              "      <td>0.033635</td>\n",
              "      <td>1.440629</td>\n",
              "      <td>NaN</td>\n",
              "      <td>-0.289284</td>\n",
              "      <td>-1.388201</td>\n",
              "      <td>1.414104</td>\n",
              "      <td>0.016949</td>\n",
              "    </tr>\n",
              "    <tr>\n",
              "      <th>4</th>\n",
              "      <td>-2.653137</td>\n",
              "      <td>1.554095</td>\n",
              "      <td>-0.680070</td>\n",
              "      <td>0.029936</td>\n",
              "      <td>0.962231</td>\n",
              "      <td>NaN</td>\n",
              "      <td>-0.289284</td>\n",
              "      <td>-1.388201</td>\n",
              "      <td>1.238789</td>\n",
              "      <td>-0.682730</td>\n",
              "    </tr>\n",
              "    <tr>\n",
              "      <th>...</th>\n",
              "      <td>...</td>\n",
              "      <td>...</td>\n",
              "      <td>...</td>\n",
              "      <td>...</td>\n",
              "      <td>...</td>\n",
              "      <td>...</td>\n",
              "      <td>...</td>\n",
              "      <td>...</td>\n",
              "      <td>...</td>\n",
              "      <td>...</td>\n",
              "    </tr>\n",
              "    <tr>\n",
              "      <th>1457</th>\n",
              "      <td>-1.126567</td>\n",
              "      <td>0.433627</td>\n",
              "      <td>-0.713430</td>\n",
              "      <td>0.024750</td>\n",
              "      <td>0.757563</td>\n",
              "      <td>NaN</td>\n",
              "      <td>0.835436</td>\n",
              "      <td>1.138832</td>\n",
              "      <td>-0.082620</td>\n",
              "      <td>1.409824</td>\n",
              "    </tr>\n",
              "    <tr>\n",
              "      <th>1458</th>\n",
              "      <td>-1.395928</td>\n",
              "      <td>1.615146</td>\n",
              "      <td>-0.175861</td>\n",
              "      <td>0.032182</td>\n",
              "      <td>-1.681526</td>\n",
              "      <td>NaN</td>\n",
              "      <td>1.055037</td>\n",
              "      <td>0.941034</td>\n",
              "      <td>-0.058321</td>\n",
              "      <td>1.411035</td>\n",
              "    </tr>\n",
              "    <tr>\n",
              "      <th>1459</th>\n",
              "      <td>-1.551459</td>\n",
              "      <td>1.723051</td>\n",
              "      <td>-0.117402</td>\n",
              "      <td>0.037730</td>\n",
              "      <td>-0.658983</td>\n",
              "      <td>NaN</td>\n",
              "      <td>1.228729</td>\n",
              "      <td>0.701885</td>\n",
              "      <td>-0.034006</td>\n",
              "      <td>1.411829</td>\n",
              "    </tr>\n",
              "    <tr>\n",
              "      <th>1460</th>\n",
              "      <td>-1.421168</td>\n",
              "      <td>1.564034</td>\n",
              "      <td>0.114607</td>\n",
              "      <td>0.027717</td>\n",
              "      <td>0.363560</td>\n",
              "      <td>NaN</td>\n",
              "      <td>1.348921</td>\n",
              "      <td>0.431837</td>\n",
              "      <td>-0.009681</td>\n",
              "      <td>1.412204</td>\n",
              "    </tr>\n",
              "    <tr>\n",
              "      <th>1461</th>\n",
              "      <td>-2.108778</td>\n",
              "      <td>2.339243</td>\n",
              "      <td>-1.491189</td>\n",
              "      <td>0.027162</td>\n",
              "      <td>1.386102</td>\n",
              "      <td>NaN</td>\n",
              "      <td>1.410359</td>\n",
              "      <td>0.142692</td>\n",
              "      <td>0.014648</td>\n",
              "      <td>1.412161</td>\n",
              "    </tr>\n",
              "  </tbody>\n",
              "</table>\n",
              "<p>1462 rows × 10 columns</p>\n",
              "</div>\n",
              "    <div class=\"colab-df-buttons\">\n",
              "\n",
              "  <div class=\"colab-df-container\">\n",
              "    <button class=\"colab-df-convert\" onclick=\"convertToInteractive('df-b08fd64d-af2a-4b1c-bf0d-e87b0fd82236')\"\n",
              "            title=\"Convert this dataframe to an interactive table.\"\n",
              "            style=\"display:none;\">\n",
              "\n",
              "  <svg xmlns=\"http://www.w3.org/2000/svg\" height=\"24px\" viewBox=\"0 -960 960 960\">\n",
              "    <path d=\"M120-120v-720h720v720H120Zm60-500h600v-160H180v160Zm220 220h160v-160H400v160Zm0 220h160v-160H400v160ZM180-400h160v-160H180v160Zm440 0h160v-160H620v160ZM180-180h160v-160H180v160Zm440 0h160v-160H620v160Z\"/>\n",
              "  </svg>\n",
              "    </button>\n",
              "\n",
              "  <style>\n",
              "    .colab-df-container {\n",
              "      display:flex;\n",
              "      gap: 12px;\n",
              "    }\n",
              "\n",
              "    .colab-df-convert {\n",
              "      background-color: #E8F0FE;\n",
              "      border: none;\n",
              "      border-radius: 50%;\n",
              "      cursor: pointer;\n",
              "      display: none;\n",
              "      fill: #1967D2;\n",
              "      height: 32px;\n",
              "      padding: 0 0 0 0;\n",
              "      width: 32px;\n",
              "    }\n",
              "\n",
              "    .colab-df-convert:hover {\n",
              "      background-color: #E2EBFA;\n",
              "      box-shadow: 0px 1px 2px rgba(60, 64, 67, 0.3), 0px 1px 3px 1px rgba(60, 64, 67, 0.15);\n",
              "      fill: #174EA6;\n",
              "    }\n",
              "\n",
              "    .colab-df-buttons div {\n",
              "      margin-bottom: 4px;\n",
              "    }\n",
              "\n",
              "    [theme=dark] .colab-df-convert {\n",
              "      background-color: #3B4455;\n",
              "      fill: #D2E3FC;\n",
              "    }\n",
              "\n",
              "    [theme=dark] .colab-df-convert:hover {\n",
              "      background-color: #434B5C;\n",
              "      box-shadow: 0px 1px 3px 1px rgba(0, 0, 0, 0.15);\n",
              "      filter: drop-shadow(0px 1px 2px rgba(0, 0, 0, 0.3));\n",
              "      fill: #FFFFFF;\n",
              "    }\n",
              "  </style>\n",
              "\n",
              "    <script>\n",
              "      const buttonEl =\n",
              "        document.querySelector('#df-b08fd64d-af2a-4b1c-bf0d-e87b0fd82236 button.colab-df-convert');\n",
              "      buttonEl.style.display =\n",
              "        google.colab.kernel.accessAllowed ? 'block' : 'none';\n",
              "\n",
              "      async function convertToInteractive(key) {\n",
              "        const element = document.querySelector('#df-b08fd64d-af2a-4b1c-bf0d-e87b0fd82236');\n",
              "        const dataTable =\n",
              "          await google.colab.kernel.invokeFunction('convertToInteractive',\n",
              "                                                    [key], {});\n",
              "        if (!dataTable) return;\n",
              "\n",
              "        const docLinkHtml = 'Like what you see? Visit the ' +\n",
              "          '<a target=\"_blank\" href=https://colab.research.google.com/notebooks/data_table.ipynb>data table notebook</a>'\n",
              "          + ' to learn more about interactive tables.';\n",
              "        element.innerHTML = '';\n",
              "        dataTable['output_type'] = 'display_data';\n",
              "        await google.colab.output.renderOutput(dataTable, element);\n",
              "        const docLink = document.createElement('div');\n",
              "        docLink.innerHTML = docLinkHtml;\n",
              "        element.appendChild(docLink);\n",
              "      }\n",
              "    </script>\n",
              "  </div>\n",
              "\n",
              "\n",
              "<div id=\"df-2493027b-fec9-4b25-9be5-3aeb211d8bee\">\n",
              "  <button class=\"colab-df-quickchart\" onclick=\"quickchart('df-2493027b-fec9-4b25-9be5-3aeb211d8bee')\"\n",
              "            title=\"Suggest charts\"\n",
              "            style=\"display:none;\">\n",
              "\n",
              "<svg xmlns=\"http://www.w3.org/2000/svg\" height=\"24px\"viewBox=\"0 0 24 24\"\n",
              "     width=\"24px\">\n",
              "    <g>\n",
              "        <path d=\"M19 3H5c-1.1 0-2 .9-2 2v14c0 1.1.9 2 2 2h14c1.1 0 2-.9 2-2V5c0-1.1-.9-2-2-2zM9 17H7v-7h2v7zm4 0h-2V7h2v10zm4 0h-2v-4h2v4z\"/>\n",
              "    </g>\n",
              "</svg>\n",
              "  </button>\n",
              "\n",
              "<style>\n",
              "  .colab-df-quickchart {\n",
              "      --bg-color: #E8F0FE;\n",
              "      --fill-color: #1967D2;\n",
              "      --hover-bg-color: #E2EBFA;\n",
              "      --hover-fill-color: #174EA6;\n",
              "      --disabled-fill-color: #AAA;\n",
              "      --disabled-bg-color: #DDD;\n",
              "  }\n",
              "\n",
              "  [theme=dark] .colab-df-quickchart {\n",
              "      --bg-color: #3B4455;\n",
              "      --fill-color: #D2E3FC;\n",
              "      --hover-bg-color: #434B5C;\n",
              "      --hover-fill-color: #FFFFFF;\n",
              "      --disabled-bg-color: #3B4455;\n",
              "      --disabled-fill-color: #666;\n",
              "  }\n",
              "\n",
              "  .colab-df-quickchart {\n",
              "    background-color: var(--bg-color);\n",
              "    border: none;\n",
              "    border-radius: 50%;\n",
              "    cursor: pointer;\n",
              "    display: none;\n",
              "    fill: var(--fill-color);\n",
              "    height: 32px;\n",
              "    padding: 0;\n",
              "    width: 32px;\n",
              "  }\n",
              "\n",
              "  .colab-df-quickchart:hover {\n",
              "    background-color: var(--hover-bg-color);\n",
              "    box-shadow: 0 1px 2px rgba(60, 64, 67, 0.3), 0 1px 3px 1px rgba(60, 64, 67, 0.15);\n",
              "    fill: var(--button-hover-fill-color);\n",
              "  }\n",
              "\n",
              "  .colab-df-quickchart-complete:disabled,\n",
              "  .colab-df-quickchart-complete:disabled:hover {\n",
              "    background-color: var(--disabled-bg-color);\n",
              "    fill: var(--disabled-fill-color);\n",
              "    box-shadow: none;\n",
              "  }\n",
              "\n",
              "  .colab-df-spinner {\n",
              "    border: 2px solid var(--fill-color);\n",
              "    border-color: transparent;\n",
              "    border-bottom-color: var(--fill-color);\n",
              "    animation:\n",
              "      spin 1s steps(1) infinite;\n",
              "  }\n",
              "\n",
              "  @keyframes spin {\n",
              "    0% {\n",
              "      border-color: transparent;\n",
              "      border-bottom-color: var(--fill-color);\n",
              "      border-left-color: var(--fill-color);\n",
              "    }\n",
              "    20% {\n",
              "      border-color: transparent;\n",
              "      border-left-color: var(--fill-color);\n",
              "      border-top-color: var(--fill-color);\n",
              "    }\n",
              "    30% {\n",
              "      border-color: transparent;\n",
              "      border-left-color: var(--fill-color);\n",
              "      border-top-color: var(--fill-color);\n",
              "      border-right-color: var(--fill-color);\n",
              "    }\n",
              "    40% {\n",
              "      border-color: transparent;\n",
              "      border-right-color: var(--fill-color);\n",
              "      border-top-color: var(--fill-color);\n",
              "    }\n",
              "    60% {\n",
              "      border-color: transparent;\n",
              "      border-right-color: var(--fill-color);\n",
              "    }\n",
              "    80% {\n",
              "      border-color: transparent;\n",
              "      border-right-color: var(--fill-color);\n",
              "      border-bottom-color: var(--fill-color);\n",
              "    }\n",
              "    90% {\n",
              "      border-color: transparent;\n",
              "      border-bottom-color: var(--fill-color);\n",
              "    }\n",
              "  }\n",
              "</style>\n",
              "\n",
              "  <script>\n",
              "    async function quickchart(key) {\n",
              "      const quickchartButtonEl =\n",
              "        document.querySelector('#' + key + ' button');\n",
              "      quickchartButtonEl.disabled = true;  // To prevent multiple clicks.\n",
              "      quickchartButtonEl.classList.add('colab-df-spinner');\n",
              "      try {\n",
              "        const charts = await google.colab.kernel.invokeFunction(\n",
              "            'suggestCharts', [key], {});\n",
              "      } catch (error) {\n",
              "        console.error('Error during call to suggestCharts:', error);\n",
              "      }\n",
              "      quickchartButtonEl.classList.remove('colab-df-spinner');\n",
              "      quickchartButtonEl.classList.add('colab-df-quickchart-complete');\n",
              "    }\n",
              "    (() => {\n",
              "      let quickchartButtonEl =\n",
              "        document.querySelector('#df-2493027b-fec9-4b25-9be5-3aeb211d8bee button');\n",
              "      quickchartButtonEl.style.display =\n",
              "        google.colab.kernel.accessAllowed ? 'block' : 'none';\n",
              "    })();\n",
              "  </script>\n",
              "</div>\n",
              "    </div>\n",
              "  </div>\n"
            ]
          },
          "metadata": {},
          "execution_count": 106
        }
      ]
    },
    {
      "cell_type": "code",
      "execution_count": null,
      "metadata": {
        "id": "OKSEt-5d9MA4"
      },
      "outputs": [],
      "source": [
        "objective_col = 'meantemp' # columna objetivo\n",
        "selected_cols = #TODO # lista de columnas seleccionadas para entrenar"
      ]
    },
    {
      "cell_type": "code",
      "execution_count": null,
      "metadata": {
        "id": "zhzi9vcn9MA4"
      },
      "outputs": [],
      "source": [
        "# En este ejemplo nos quedamos solo con las columnas numericas, pero la idea es que en la lista anterior se incluyan las columnas que se quieran usar para entrenar el modelo, columnas nuevas que hayan creado o modificado en el preprocesamiento.\n",
        "selected_cols = train_df.drop(columns=objective_col).select_dtypes(include='number').columns.tolist() #solo ejecutar a modo de ejemplo"
      ]
    },
    {
      "cell_type": "code",
      "execution_count": null,
      "metadata": {
        "id": "N85vIyzz9MA4",
        "outputId": "0cf1170a-8e45-4b2d-c00a-a6b394a2ec59"
      },
      "outputs": [
        {
          "data": {
            "text/plain": [
              "['humidity', 'wind_speed', 'meanpressure', 'meantemp']"
            ]
          },
          "execution_count": 54,
          "metadata": {},
          "output_type": "execute_result"
        }
      ],
      "source": [
        "# IMPORTANTE: agregamos la columna objetivo al final de la lista, deben asegurarse de que este al final para el correcto funcionamiento del codigo\n",
        "selected_cols.append(objective_col)\n",
        "selected_cols"
      ]
    },
    {
      "cell_type": "code",
      "execution_count": null,
      "metadata": {
        "id": "tji-ZN6s9MA4"
      },
      "outputs": [],
      "source": [
        "tr_timeseries = train_df[selected_cols].values.astype('float32')\n",
        "te_timeseries = test_df[selected_cols].values.astype('float32')"
      ]
    },
    {
      "cell_type": "code",
      "execution_count": null,
      "metadata": {
        "id": "1eYVZdjk9MA4"
      },
      "outputs": [],
      "source": [
        "# concatenamos los dataframes para despues hacer las visualizaciones, No borrar ni modificar\n",
        "new = pd.concat([train_df, test_df], axis=0).reset_index().drop('index', axis=1)\n",
        "new_timeseries = new[selected_cols].values.astype('float32')\n",
        "shape = new_timeseries.shape[1]"
      ]
    },
    {
      "cell_type": "markdown",
      "metadata": {
        "id": "OhMNX-tI9MA5"
      },
      "source": [
        "## 2.4 Dataset y DataLoader"
      ]
    },
    {
      "cell_type": "code",
      "execution_count": null,
      "metadata": {
        "id": "7j_NKRTS9MA5"
      },
      "outputs": [],
      "source": [
        "def create_dataset(dataset, lookback, shape):\n",
        "    \"\"\"Funcion para crear los tensores de entrenamiento y test\n",
        "    dataset: np.ndarray\n",
        "    lookback: int (numero de dias a considerar o largo de la secuencia)\n",
        "    \"\"\"\n",
        "    X, y = [], []\n",
        "    for i in range(len(dataset)-lookback):\n",
        "        feature = dataset[:,:shape-1][i:i+lookback]\n",
        "        target = dataset[:, shape-1][i:i+lookback]\n",
        "        X.append(feature)\n",
        "        y.append(target)\n",
        "    # Convierte las listas a np.ndarray antes de convertirlas en tensores\n",
        "    X = np.array(X)\n",
        "    y = np.array(y)\n",
        "    return torch.tensor(X), torch.tensor(y)"
      ]
    },
    {
      "cell_type": "code",
      "execution_count": null,
      "metadata": {
        "id": "5JTMQ-vV9MA5"
      },
      "outputs": [],
      "source": [
        "lookback = 7 #consideraremos los ultimos 7 dias para predecir el dia siguiente\n",
        "\n",
        "train, test = tr_timeseries, te_timeseries\n",
        "X_train, y_train = create_dataset(train, lookback=lookback, shape=shape)\n",
        "X_test, y_test = create_dataset(test, lookback=lookback, shape=shape)"
      ]
    },
    {
      "cell_type": "code",
      "execution_count": null,
      "metadata": {
        "id": "icHlrxJ99MA5"
      },
      "outputs": [],
      "source": [
        "loader = data.DataLoader(data.TensorDataset(X_train, y_train), batch_size = 8, shuffle = True) #dataloader para entrenar los modelos de Pytorch"
      ]
    },
    {
      "cell_type": "markdown",
      "metadata": {
        "id": "PuRswZSw9MA5"
      },
      "source": [
        "## 2.5 Modelo Recurrente"
      ]
    },
    {
      "cell_type": "markdown",
      "metadata": {
        "id": "CrF2TnY69MA5"
      },
      "source": [
        "En esta seccion se implementa uan clase base para modelos recurrentes, pueden utilizar esta clase o pueden modificarla o crear una nueva clase si lo desean, recuerden que hay bonus por creatividad en esta tarea."
      ]
    },
    {
      "cell_type": "code",
      "execution_count": null,
      "metadata": {
        "id": "IzIaSNQE9MA5"
      },
      "outputs": [],
      "source": [
        "class RNNModel(nn.Module):\n",
        "    def __init__(self, input_size, hidden_size, num_layers, dropout, bidirectional, rnn_class):\n",
        "        super().__init__()\n",
        "        # Verificar que rnn_class es una de las clases de RNN permitidas\n",
        "        if rnn_class not in [nn.LSTM, nn.GRU, nn.RNN]:\n",
        "            raise ValueError(\"rnn_class must be nn.LSTM, nn.GRU, or nn.RNN\")\n",
        "\n",
        "        # Inicializar la capa recurrente con la clase pasada como parámetro\n",
        "        self.rnn = rnn_class(input_size=input_size,\n",
        "                             hidden_size=hidden_size,\n",
        "                             num_layers=num_layers,\n",
        "                             batch_first=True,\n",
        "                             bidirectional=bidirectional)\n",
        "\n",
        "        # Calcular la dimensión de salida de la capa recurrente\n",
        "        # Es doble si es bidireccional\n",
        "        factor = 2 if bidirectional else 1\n",
        "\n",
        "        self.dropout = #TODO\n",
        "        self.linear1 = nn.Linear(hidden_size * factor, 64)\n",
        "        self.linear2 = #TODO\n",
        "        self.output_linear = #TODO\n",
        "\n",
        "    def forward(self, x):\n",
        "        # LSTM devuelve (output, (h_n, c_n)) mientras que GRU y RNN solo devuelve (output, h_n)\n",
        "        x, _ = self.rnn(x)\n",
        "        x = #TODO # Aplicar dropout\n",
        "        x = #TODO # Aplicar linear1\n",
        "        x = #TODO # Aplicar linear2\n",
        "        x = #TODO # Aplicar output_linear\n",
        "        return x"
      ]
    },
    {
      "cell_type": "markdown",
      "metadata": {
        "id": "w6qUl3pG9MA5"
      },
      "source": [
        "## 2.6 Hiperparámetros"
      ]
    },
    {
      "cell_type": "markdown",
      "metadata": {
        "id": "f8EXnskr9MA5"
      },
      "source": [
        "Aca pueden variar los hiperparametros de la red recurrente, pueden agregar mas si lo desean, para mas informacion sobre los optimizadores pueden revisar la documentacion de [pytorch Optim](https://pytorch.org/docs/stable/optim.html), y para mas informacion sobre los criterios de perdida pueden revisar la documentacion de [pytorch Loss](https://pytorch.org/docs/stable/nn.html#loss-functions)"
      ]
    },
    {
      "cell_type": "code",
      "execution_count": null,
      "metadata": {
        "id": "bP2xCj4u9MA6"
      },
      "outputs": [],
      "source": [
        "# Hiperparametros del modelo\n",
        "input_size = shape-1\n",
        "hidden_size = #TODO\n",
        "num_layers = #TODO\n",
        "dropout = #TODO\n",
        "bidirectional = True #puede ser True o False\n",
        "layer_type = nn.RNN #puede ser nn.RNN, nn.LSTM o nn.GRU\n",
        "\n",
        "# Modelo\n",
        "model = RNNModel(input_size, hidden_size, num_layers, dropout, bidirectional, layer_type)\n",
        "\n",
        "#optimizador\n",
        "lr = #TODO\n",
        "optimizer = #TODO\n",
        "\n",
        "# loss func: MSE\n",
        "loss_fn = #TODO"
      ]
    },
    {
      "cell_type": "markdown",
      "metadata": {
        "id": "ynPaLTL99MA6"
      },
      "source": [
        "## 2.7 Funciones de entrenamiento y evaluacion"
      ]
    },
    {
      "cell_type": "markdown",
      "metadata": {
        "id": "g8MGK0Ct9MA6"
      },
      "source": [
        "En esta seccion se implementan funciones que nos ayudaran a entrenar y evaluar nuestro modelo, Pytorch no implementa metodos como .fit() por ende los tenemos que crear desde cero, al igual que antes sientanse libres de modificar o crear nuevas funciones, para mas informacion sobre el training loop pueden revisar la documentacion de [pytorch Custom Training](https://pytorch.org/tutorials/beginner/basics/optimization_tutorial.html#custom-training-loop)"
      ]
    },
    {
      "cell_type": "code",
      "execution_count": null,
      "metadata": {
        "id": "eIxouDIs9MA6"
      },
      "outputs": [],
      "source": [
        "class CustomEarlyStopping:\n",
        "    \"\"\"\n",
        "    Funcion para detener el entrenamiento cuando la loss de validacion no mejora\n",
        "    \"\"\"\n",
        "    def __init__(self, patience=20, delta=0, verbose=False):\n",
        "        self.patience = patience\n",
        "        self.delta = delta\n",
        "        self.verbose = verbose\n",
        "        self.counter = 0\n",
        "        self.best_score = None\n",
        "        self.early_stop = False\n",
        "        self.best_state = None\n",
        "        self.best_y_pred = None\n",
        "\n",
        "    def __call__(self, val_loss, model, X):\n",
        "        score = -val_loss\n",
        "\n",
        "        if self.best_score is None:\n",
        "            self.best_score = score\n",
        "            self.best_state = model.state_dict()\n",
        "            with torch.no_grad():\n",
        "                self.best_y_pred = model(X)\n",
        "        elif score < self.best_score + self.delta:\n",
        "            self.counter += 1\n",
        "            if self.verbose:\n",
        "                print(f'EarlyStopping counter: {self.counter} out of {self.patience}, score: {self.best_score}')\n",
        "\n",
        "            if self.counter >= self.patience:\n",
        "                self.early_stop = True\n",
        "        else:\n",
        "            self.best_score = score\n",
        "            self.best_state = model.state_dict()\n",
        "            with torch.no_grad():\n",
        "                self.best_y_pred = model(X)\n",
        "            self.counter = 0"
      ]
    },
    {
      "cell_type": "code",
      "execution_count": null,
      "metadata": {
        "id": "ZL2zQygF9MA6"
      },
      "outputs": [],
      "source": [
        "def train_model(model, optimizer, early_stopping):\n",
        "    \"\"\"\n",
        "    Funcion para entrenar el modelo\n",
        "    \"\"\"\n",
        "    best_score = None\n",
        "    best_weights = None\n",
        "\n",
        "    n_epochs = 200\n",
        "\n",
        "    for epoch in range(n_epochs):\n",
        "        model.train() # Entrenamiento\n",
        "        for X_batch, y_batch in loader:\n",
        "            #TODO # Forward pass\n",
        "            #TODO # Compute loss\n",
        "            #TODO # Zero gradients\n",
        "            #TODO # Backward pass\n",
        "            #TODO # Update weights\n",
        "\n",
        "        model.eval() # Validacion\n",
        "        with torch.no_grad():\n",
        "            y_pred = model(X_train)\n",
        "            train_rmse = np.sqrt(loss_fn(y_pred, y_train.unsqueeze(2)))\n",
        "\n",
        "            y_pred = model(X_test)\n",
        "            test_rmse = np.sqrt(loss_fn(y_pred, y_test.unsqueeze(2)))\n",
        "\n",
        "            if best_score is None or test_rmse < best_score:\n",
        "                best_score = test_rmse\n",
        "                best_weights = model.state_dict()\n",
        "\n",
        "            early_stopping(test_rmse, model, X_test)\n",
        "\n",
        "            # Check if early stopping criterion is met\n",
        "            if early_stopping.early_stop:\n",
        "                print(\"Early stopping\")\n",
        "                break\n",
        "\n",
        "        if epoch % 10 == 0:\n",
        "            print('*'*10, 'Epoch: ', epoch, '\\ train RMSE: ', train_rmse, '\\ test RMSE', test_rmse)\n",
        "\n",
        "    return model, best_weights"
      ]
    },
    {
      "cell_type": "code",
      "execution_count": null,
      "metadata": {
        "id": "hAMbw9ka9MA6"
      },
      "outputs": [],
      "source": [
        "def get_preds(model, best_weights):\n",
        "    \"\"\"\n",
        "    Funcion para obtener las predicciones y desnormalizarlas\n",
        "    \"\"\"\n",
        "    # Usamos los mejores pesos para hacer las predicciones\n",
        "    if best_weights is not None:\n",
        "        model.load_state_dict(best_weights)\n",
        "\n",
        "        # Calculamos las predicciones\n",
        "        with torch.no_grad():\n",
        "            y_pred_train = model(X_train).clone().detach().cpu().numpy()\n",
        "            y_pred_test = model(X_test).clone().detach().cpu().numpy()\n",
        "\n",
        "        # Modificamos las dimensiones de las predicciones para luego graficarlas\n",
        "        with torch.no_grad():\n",
        "            train_predictions = np.ones_like(new_timeseries) * np.nan\n",
        "            train_predictions[lookback: len(train)] = y_pred_train[:,-1,:]\n",
        "\n",
        "            test_predictions = np.ones_like(new_timeseries) * np.nan\n",
        "            test_predictions[len(train)+lookback:len(new_timeseries)] = y_pred_test[:,-1,:]\n",
        "\n",
        "        return train_predictions, test_predictions"
      ]
    },
    {
      "cell_type": "code",
      "execution_count": null,
      "metadata": {
        "id": "xoF5raas9MA6"
      },
      "outputs": [],
      "source": [
        "def plot_predictions(train_predictions, test_predictions, shape):\n",
        "    \"\"\"\n",
        "    Funcion para graficar las predicciones\n",
        "    \"\"\"\n",
        "    # plot\n",
        "    plt.figure(figsize=(20,10))\n",
        "    plt.plot(new_timeseries[:,shape-1], c = 'b', label = 'True')\n",
        "    plt.plot(train_predictions[:,shape-1], c='r', label = 'Train')\n",
        "    plt.plot(test_predictions[:,shape-1], c='g', label = 'Test')\n",
        "    plt.legend()\n",
        "    plt.show()"
      ]
    },
    {
      "cell_type": "code",
      "execution_count": null,
      "metadata": {
        "id": "nrf9-hwr9MA7"
      },
      "outputs": [],
      "source": [
        "def plot_eval(test_predictions, shape):\n",
        "    \"\"\"\n",
        "    Funcion para graficar las predicciones\n",
        "    \"\"\"\n",
        "\n",
        "    eval_df = pd.concat([test_df['meantemp'].reset_index(),pd.Series(test_predictions[:,shape-1][len(train):].reshape(-1).tolist())],axis=1).drop('index',axis=1) #creamos un dataframe con las predicciones y los valores reales\n",
        "\n",
        "    eval_df.columns = ['real_meantemp', 'pred_meantemp'] #renombramos las columnas\n",
        "\n",
        "    rmse = np.sqrt(mean_squared_error(eval_df.iloc[7:]['real_meantemp'], eval_df.iloc[7:]['pred_meantemp'])) #calculamos el rmse\n",
        "\n",
        "    print(f'RMSE: {rmse}')\n",
        "\n",
        "    fig = go.Figure(data = [\n",
        "        go.Scatter(x = eval_df.index, y = eval_df['real_meantemp'], mode='lines', name = \"Actual\"),\n",
        "        go.Scatter(x = eval_df.index, y = eval_df['pred_meantemp'], mode='lines', name=\"Predicted\"),\n",
        "    ])\n",
        "\n",
        "    fig.update_layout(\n",
        "        font = dict(size=17, family=\"Franklin Gothic\"),\n",
        "        template = 'simple_white',\n",
        "        title = 'Real & Predicted Temperature'\n",
        "    )\n",
        "\n",
        "    fig.show()"
      ]
    },
    {
      "cell_type": "markdown",
      "metadata": {
        "id": "xgZFU_489MBC"
      },
      "source": [
        "## 2.8 Entrenamiento"
      ]
    },
    {
      "cell_type": "code",
      "execution_count": null,
      "metadata": {
        "id": "IZF_4UvX9MBC"
      },
      "outputs": [],
      "source": [
        "early_stopping = CustomEarlyStopping(patience=15, verbose=True)\n",
        "model, model_best_weights = train_model(model, optimizer, early_stopping)"
      ]
    },
    {
      "cell_type": "code",
      "execution_count": null,
      "metadata": {
        "id": "zS39uhlg9MBC"
      },
      "outputs": [],
      "source": [
        "train_predictions, test_predictions = get_preds(model, model_best_weights)"
      ]
    },
    {
      "cell_type": "markdown",
      "metadata": {
        "id": "fPHkX3y-9MBC"
      },
      "source": [
        "## 2.9 Evaluacion"
      ]
    },
    {
      "cell_type": "code",
      "execution_count": null,
      "metadata": {
        "id": "Ns8S3yjO9MBC",
        "outputId": "bed3d75f-504f-49af-af58-8712fa389cb1"
      },
      "outputs": [
        {
          "data": {
            "image/png": "[encoded data removed]",
            "text/plain": [
              "<Figure size 2000x1000 with 1 Axes>"
            ]
          },
          "metadata": {},
          "output_type": "display_data"
        }
      ],
      "source": [
        "plot_predictions(train_predictions, test_predictions)"
      ]
    },
    {
      "cell_type": "code",
      "execution_count": null,
      "metadata": {
        "id": "8eCASKjs9MBD",
        "outputId": "eee595b3-7066-430d-c96f-c64383aec7f9"
      },
      "outputs": [
        {
          "name": "stdout",
          "output_type": "stream",
          "text": [
            "RMSE: 2.504925946161387\n"
          ]
        },
        {
          "data": {
            "application/vnd.plotly.v1+json": {
              "config": {
                "plotlyServerURL": "https://plot.ly"
              },
              "data": [
                {
                  "mode": "lines",
                  "name": "Actual",
                  "type": "scatter",
                  "x": [
                    0,
                    1,
                    2,
                    3,
                    4,
                    5,
                    6,
                    7,
                    8,
                    9,
                    10,
                    11,
                    12,
                    13,
                    14,
                    15,
                    16,
                    17,
                    18,
                    19,
                    20,
                    21,
                    22,
                    23,
                    24,
                    25,
                    26,
                    27,
                    28,
                    29,
                    30,
                    31,
                    32,
                    33,
                    34,
                    35,
                    36,
                    37,
                    38,
                    39,
                    40,
                    41,
                    42,
                    43,
                    44,
                    45,
                    46,
                    47,
                    48,
                    49,
                    50,
                    51,
                    52,
                    53,
                    54,
                    55,
                    56,
                    57,
                    58,
                    59,
                    60,
                    61,
                    62,
                    63,
                    64,
                    65,
                    66,
                    67,
                    68,
                    69,
                    70,
                    71,
                    72,
                    73,
                    74,
                    75,
                    76,
                    77,
                    78,
                    79,
                    80,
                    81,
                    82,
                    83,
                    84,
                    85,
                    86,
                    87,
                    88,
                    89,
                    90,
                    91,
                    92,
                    93,
                    94,
                    95,
                    96,
                    97,
                    98,
                    99,
                    100,
                    101,
                    102,
                    103,
                    104,
                    105,
                    106,
                    107,
                    108,
                    109,
                    110,
                    111,
                    112,
                    113
                  ],
                  "y": [
                    15.91304347826087,
                    18.5,
                    17.11111111111111,
                    18.7,
                    18.38888888888889,
                    19.318181818181817,
                    14.708333333333334,
                    15.68421052631579,
                    14.571428571428571,
                    12.11111111111111,
                    11,
                    11.789473684210526,
                    13.235294117647058,
                    13.2,
                    16.434782608695652,
                    14.65,
                    11.72222222222222,
                    13.041666666666666,
                    14.61904761904762,
                    15.263157894736842,
                    15.391304347826088,
                    18.44,
                    18.11764705882353,
                    18.347826086956523,
                    21,
                    16.178571428571427,
                    16.5,
                    14.863636363636363,
                    15.666666666666666,
                    16.444444444444443,
                    16.125,
                    15.25,
                    17.09090909090909,
                    15.636363636363637,
                    18.7,
                    18.63157894736842,
                    16.88888888888889,
                    15.125,
                    15.7,
                    15.375,
                    14.666666666666666,
                    15.625,
                    16.25,
                    16.333333333333332,
                    16.875,
                    17.571428571428573,
                    20.25,
                    21.3,
                    21.125,
                    22.363636363636363,
                    23.375,
                    21.833333333333332,
                    19.125,
                    18.625,
                    19.125,
                    19,
                    18.75,
                    19.875,
                    23.333333333333332,
                    24.46153846153846,
                    23.75,
                    20.5,
                    19.125,
                    19.75,
                    20,
                    22.625,
                    21.545454545454547,
                    20.785714285714285,
                    19.9375,
                    18.533333333333335,
                    17.375,
                    17.444444444444443,
                    18,
                    19.875,
                    24,
                    20.9,
                    24.692307692307693,
                    24.666666666666668,
                    23.333333333333332,
                    25,
                    27.25,
                    28,
                    28.916666666666668,
                    26.5,
                    29.1,
                    29.5,
                    29.88888888888889,
                    31,
                    29.285714285714285,
                    30.625,
                    31.375,
                    29.75,
                    30.5,
                    30.933333333333337,
                    29.23076923076923,
                    31.22222222222222,
                    27,
                    25.625,
                    27.125,
                    27.857142857142858,
                    29.25,
                    29.25,
                    29.666666666666668,
                    30.5,
                    31.22222222222222,
                    31,
                    32.55555555555556,
                    34,
                    33.5,
                    34.5,
                    34.25,
                    32.9,
                    32.875,
                    32
                  ]
                },
                {
                  "mode": "lines",
                  "name": "Predicted",
                  "type": "scatter",
                  "x": [
                    0,
                    1,
                    2,
                    3,
                    4,
                    5,
                    6,
                    7,
                    8,
                    9,
                    10,
                    11,
                    12,
                    13,
                    14,
                    15,
                    16,
                    17,
                    18,
                    19,
                    20,
                    21,
                    22,
                    23,
                    24,
                    25,
                    26,
                    27,
                    28,
                    29,
                    30,
                    31,
                    32,
                    33,
                    34,
                    35,
                    36,
                    37,
                    38,
                    39,
                    40,
                    41,
                    42,
                    43,
                    44,
                    45,
                    46,
                    47,
                    48,
                    49,
                    50,
                    51,
                    52,
                    53,
                    54,
                    55,
                    56,
                    57,
                    58,
                    59,
                    60,
                    61,
                    62,
                    63,
                    64,
                    65,
                    66,
                    67,
                    68,
                    69,
                    70,
                    71,
                    72,
                    73,
                    74,
                    75,
                    76,
                    77,
                    78,
                    79,
                    80,
                    81,
                    82,
                    83,
                    84,
                    85,
                    86,
                    87,
                    88,
                    89,
                    90,
                    91,
                    92,
                    93,
                    94,
                    95,
                    96,
                    97,
                    98,
                    99,
                    100,
                    101,
                    102,
                    103,
                    104,
                    105,
                    106,
                    107,
                    108,
                    109,
                    110,
                    111,
                    112,
                    113
                  ],
                  "y": [
                    null,
                    null,
                    null,
                    null,
                    null,
                    null,
                    null,
                    10.704148292541504,
                    12.63821792602539,
                    12.751952171325684,
                    13.61524772644043,
                    13.470070838928223,
                    13.502986907958984,
                    14.695708274841309,
                    13.87820816040039,
                    14.433756828308105,
                    13.603240966796875,
                    12.880958557128906,
                    13.705913543701172,
                    13.896139144897461,
                    14.79859733581543,
                    14.139266014099121,
                    13.935893058776855,
                    14.361536979675293,
                    15.628457069396973,
                    15.396706581115723,
                    12.81601619720459,
                    14.61197566986084,
                    13.52402114868164,
                    13.699601173400879,
                    14.39204216003418,
                    15.085230827331543,
                    14.96017074584961,
                    16.85177993774414,
                    15.455002784729004,
                    15.38515853881836,
                    15.062453269958496,
                    16.04828453063965,
                    16.67010498046875,
                    16.34546661376953,
                    16.748674392700195,
                    16.476789474487305,
                    17.719743728637695,
                    17.237375259399414,
                    17.902664184570312,
                    18.064538955688477,
                    17.99957847595215,
                    19.210447311401367,
                    18.032920837402344,
                    17.64126205444336,
                    18.605213165283203,
                    19.495939254760742,
                    18.165569305419922,
                    19.865558624267578,
                    21.328733444213867,
                    21.3065128326416,
                    20.367008209228516,
                    20.08246421813965,
                    21.042762756347656,
                    22.54374122619629,
                    23.16303062438965,
                    22.651203155517578,
                    24.038782119750977,
                    23.66472625732422,
                    23.803695678710938,
                    23.759031295776367,
                    24.39021110534668,
                    23.238330841064453,
                    21.49370574951172,
                    21.565622329711914,
                    22.28706932067871,
                    22.5593318939209,
                    23.384275436401367,
                    23.06513786315918,
                    23.918184280395508,
                    24.957393646240234,
                    23.593971252441406,
                    25.366586685180664,
                    24.57252311706543,
                    24.43311882019043,
                    25.2254695892334,
                    25.855375289916992,
                    25.77198600769043,
                    27.52189826965332,
                    27.344717025756836,
                    27.46221923828125,
                    27.132951736450195,
                    27.31278419494629,
                    28.297422409057617,
                    28.248645782470703,
                    28.65928077697754,
                    29.135299682617188,
                    29.471721649169922,
                    29.997461318969727,
                    29.46299171447754,
                    27.491626739501953,
                    29.928009033203125,
                    29.764846801757812,
                    30.386701583862305,
                    31.427289962768555,
                    31.472753524780273,
                    31.598941802978516,
                    30.990324020385742,
                    31.423067092895508,
                    31.083694458007812,
                    32.106201171875,
                    31.447860717773438,
                    30.824827194213867,
                    31.96891212463379,
                    32.15831756591797,
                    31.934062957763672,
                    30.74683380126953,
                    30.734535217285156,
                    32.243141174316406
                  ]
                }
              ],
              "layout": {
                "font": {
                  "family": "Franklin Gothic",
                  "size": 17
                },
                "template": {
                  "data": {
                    "bar": [
                      {
                        "error_x": {
                          "color": "rgb(36,36,36)"
                        },
                        "error_y": {
                          "color": "rgb(36,36,36)"
                        },
                        "marker": {
                          "line": {
                            "color": "white",
                            "width": 0.5
                          },
                          "pattern": {
                            "fillmode": "overlay",
                            "size": 10,
                            "solidity": 0.2
                          }
                        },
                        "type": "bar"
                      }
                    ],
                    "barpolar": [
                      {
                        "marker": {
                          "line": {
                            "color": "white",
                            "width": 0.5
                          },
                          "pattern": {
                            "fillmode": "overlay",
                            "size": 10,
                            "solidity": 0.2
                          }
                        },
                        "type": "barpolar"
                      }
                    ],
                    "carpet": [
                      {
                        "aaxis": {
                          "endlinecolor": "rgb(36,36,36)",
                          "gridcolor": "white",
                          "linecolor": "white",
                          "minorgridcolor": "white",
                          "startlinecolor": "rgb(36,36,36)"
                        },
                        "baxis": {
                          "endlinecolor": "rgb(36,36,36)",
                          "gridcolor": "white",
                          "linecolor": "white",
                          "minorgridcolor": "white",
                          "startlinecolor": "rgb(36,36,36)"
                        },
                        "type": "carpet"
                      }
                    ],
                    "choropleth": [
                      {
                        "colorbar": {
                          "outlinewidth": 1,
                          "tickcolor": "rgb(36,36,36)",
                          "ticks": "outside"
                        },
                        "type": "choropleth"
                      }
                    ],
                    "contour": [
                      {
                        "colorbar": {
                          "outlinewidth": 1,
                          "tickcolor": "rgb(36,36,36)",
                          "ticks": "outside"
                        },
                        "colorscale": [
                          [
                            0,
                            "#440154"
                          ],
                          [
                            0.1111111111111111,
                            "#482878"
                          ],
                          [
                            0.2222222222222222,
                            "#3e4989"
                          ],
                          [
                            0.3333333333333333,
                            "#31688e"
                          ],
                          [
                            0.4444444444444444,
                            "#26828e"
                          ],
                          [
                            0.5555555555555556,
                            "#1f9e89"
                          ],
                          [
                            0.6666666666666666,
                            "#35b779"
                          ],
                          [
                            0.7777777777777778,
                            "#6ece58"
                          ],
                          [
                            0.8888888888888888,
                            "#b5de2b"
                          ],
                          [
                            1,
                            "#fde725"
                          ]
                        ],
                        "type": "contour"
                      }
                    ],
                    "contourcarpet": [
                      {
                        "colorbar": {
                          "outlinewidth": 1,
                          "tickcolor": "rgb(36,36,36)",
                          "ticks": "outside"
                        },
                        "type": "contourcarpet"
                      }
                    ],
                    "heatmap": [
                      {
                        "colorbar": {
                          "outlinewidth": 1,
                          "tickcolor": "rgb(36,36,36)",
                          "ticks": "outside"
                        },
                        "colorscale": [
                          [
                            0,
                            "#440154"
                          ],
                          [
                            0.1111111111111111,
                            "#482878"
                          ],
                          [
                            0.2222222222222222,
                            "#3e4989"
                          ],
                          [
                            0.3333333333333333,
                            "#31688e"
                          ],
                          [
                            0.4444444444444444,
                            "#26828e"
                          ],
                          [
                            0.5555555555555556,
                            "#1f9e89"
                          ],
                          [
                            0.6666666666666666,
                            "#35b779"
                          ],
                          [
                            0.7777777777777778,
                            "#6ece58"
                          ],
                          [
                            0.8888888888888888,
                            "#b5de2b"
                          ],
                          [
                            1,
                            "#fde725"
                          ]
                        ],
                        "type": "heatmap"
                      }
                    ],
                    "heatmapgl": [
                      {
                        "colorbar": {
                          "outlinewidth": 1,
                          "tickcolor": "rgb(36,36,36)",
                          "ticks": "outside"
                        },
                        "colorscale": [
                          [
                            0,
                            "#440154"
                          ],
                          [
                            0.1111111111111111,
                            "#482878"
                          ],
                          [
                            0.2222222222222222,
                            "#3e4989"
                          ],
                          [
                            0.3333333333333333,
                            "#31688e"
                          ],
                          [
                            0.4444444444444444,
                            "#26828e"
                          ],
                          [
                            0.5555555555555556,
                            "#1f9e89"
                          ],
                          [
                            0.6666666666666666,
                            "#35b779"
                          ],
                          [
                            0.7777777777777778,
                            "#6ece58"
                          ],
                          [
                            0.8888888888888888,
                            "#b5de2b"
                          ],
                          [
                            1,
                            "#fde725"
                          ]
                        ],
                        "type": "heatmapgl"
                      }
                    ],
                    "histogram": [
                      {
                        "marker": {
                          "line": {
                            "color": "white",
                            "width": 0.6
                          }
                        },
                        "type": "histogram"
                      }
                    ],
                    "histogram2d": [
                      {
                        "colorbar": {
                          "outlinewidth": 1,
                          "tickcolor": "rgb(36,36,36)",
                          "ticks": "outside"
                        },
                        "colorscale": [
                          [
                            0,
                            "#440154"
                          ],
                          [
                            0.1111111111111111,
                            "#482878"
                          ],
                          [
                            0.2222222222222222,
                            "#3e4989"
                          ],
                          [
                            0.3333333333333333,
                            "#31688e"
                          ],
                          [
                            0.4444444444444444,
                            "#26828e"
                          ],
                          [
                            0.5555555555555556,
                            "#1f9e89"
                          ],
                          [
                            0.6666666666666666,
                            "#35b779"
                          ],
                          [
                            0.7777777777777778,
                            "#6ece58"
                          ],
                          [
                            0.8888888888888888,
                            "#b5de2b"
                          ],
                          [
                            1,
                            "#fde725"
                          ]
                        ],
                        "type": "histogram2d"
                      }
                    ],
                    "histogram2dcontour": [
                      {
                        "colorbar": {
                          "outlinewidth": 1,
                          "tickcolor": "rgb(36,36,36)",
                          "ticks": "outside"
                        },
                        "colorscale": [
                          [
                            0,
                            "#440154"
                          ],
                          [
                            0.1111111111111111,
                            "#482878"
                          ],
                          [
                            0.2222222222222222,
                            "#3e4989"
                          ],
                          [
                            0.3333333333333333,
                            "#31688e"
                          ],
                          [
                            0.4444444444444444,
                            "#26828e"
                          ],
                          [
                            0.5555555555555556,
                            "#1f9e89"
                          ],
                          [
                            0.6666666666666666,
                            "#35b779"
                          ],
                          [
                            0.7777777777777778,
                            "#6ece58"
                          ],
                          [
                            0.8888888888888888,
                            "#b5de2b"
                          ],
                          [
                            1,
                            "#fde725"
                          ]
                        ],
                        "type": "histogram2dcontour"
                      }
                    ],
                    "mesh3d": [
                      {
                        "colorbar": {
                          "outlinewidth": 1,
                          "tickcolor": "rgb(36,36,36)",
                          "ticks": "outside"
                        },
                        "type": "mesh3d"
                      }
                    ],
                    "parcoords": [
                      {
                        "line": {
                          "colorbar": {
                            "outlinewidth": 1,
                            "tickcolor": "rgb(36,36,36)",
                            "ticks": "outside"
                          }
                        },
                        "type": "parcoords"
                      }
                    ],
                    "pie": [
                      {
                        "automargin": true,
                        "type": "pie"
                      }
                    ],
                    "scatter": [
                      {
                        "fillpattern": {
                          "fillmode": "overlay",
                          "size": 10,
                          "solidity": 0.2
                        },
                        "type": "scatter"
                      }
                    ],
                    "scatter3d": [
                      {
                        "line": {
                          "colorbar": {
                            "outlinewidth": 1,
                            "tickcolor": "rgb(36,36,36)",
                            "ticks": "outside"
                          }
                        },
                        "marker": {
                          "colorbar": {
                            "outlinewidth": 1,
                            "tickcolor": "rgb(36,36,36)",
                            "ticks": "outside"
                          }
                        },
                        "type": "scatter3d"
                      }
                    ],
                    "scattercarpet": [
                      {
                        "marker": {
                          "colorbar": {
                            "outlinewidth": 1,
                            "tickcolor": "rgb(36,36,36)",
                            "ticks": "outside"
                          }
                        },
                        "type": "scattercarpet"
                      }
                    ],
                    "scattergeo": [
                      {
                        "marker": {
                          "colorbar": {
                            "outlinewidth": 1,
                            "tickcolor": "rgb(36,36,36)",
                            "ticks": "outside"
                          }
                        },
                        "type": "scattergeo"
                      }
                    ],
                    "scattergl": [
                      {
                        "marker": {
                          "colorbar": {
                            "outlinewidth": 1,
                            "tickcolor": "rgb(36,36,36)",
                            "ticks": "outside"
                          }
                        },
                        "type": "scattergl"
                      }
                    ],
                    "scattermapbox": [
                      {
                        "marker": {
                          "colorbar": {
                            "outlinewidth": 1,
                            "tickcolor": "rgb(36,36,36)",
                            "ticks": "outside"
                          }
                        },
                        "type": "scattermapbox"
                      }
                    ],
                    "scatterpolar": [
                      {
                        "marker": {
                          "colorbar": {
                            "outlinewidth": 1,
                            "tickcolor": "rgb(36,36,36)",
                            "ticks": "outside"
                          }
                        },
                        "type": "scatterpolar"
                      }
                    ],
                    "scatterpolargl": [
                      {
                        "marker": {
                          "colorbar": {
                            "outlinewidth": 1,
                            "tickcolor": "rgb(36,36,36)",
                            "ticks": "outside"
                          }
                        },
                        "type": "scatterpolargl"
                      }
                    ],
                    "scatterternary": [
                      {
                        "marker": {
                          "colorbar": {
                            "outlinewidth": 1,
                            "tickcolor": "rgb(36,36,36)",
                            "ticks": "outside"
                          }
                        },
                        "type": "scatterternary"
                      }
                    ],
                    "surface": [
                      {
                        "colorbar": {
                          "outlinewidth": 1,
                          "tickcolor": "rgb(36,36,36)",
                          "ticks": "outside"
                        },
                        "colorscale": [
                          [
                            0,
                            "#440154"
                          ],
                          [
                            0.1111111111111111,
                            "#482878"
                          ],
                          [
                            0.2222222222222222,
                            "#3e4989"
                          ],
                          [
                            0.3333333333333333,
                            "#31688e"
                          ],
                          [
                            0.4444444444444444,
                            "#26828e"
                          ],
                          [
                            0.5555555555555556,
                            "#1f9e89"
                          ],
                          [
                            0.6666666666666666,
                            "#35b779"
                          ],
                          [
                            0.7777777777777778,
                            "#6ece58"
                          ],
                          [
                            0.8888888888888888,
                            "#b5de2b"
                          ],
                          [
                            1,
                            "#fde725"
                          ]
                        ],
                        "type": "surface"
                      }
                    ],
                    "table": [
                      {
                        "cells": {
                          "fill": {
                            "color": "rgb(237,237,237)"
                          },
                          "line": {
                            "color": "white"
                          }
                        },
                        "header": {
                          "fill": {
                            "color": "rgb(217,217,217)"
                          },
                          "line": {
                            "color": "white"
                          }
                        },
                        "type": "table"
                      }
                    ]
                  },
                  "layout": {
                    "annotationdefaults": {
                      "arrowhead": 0,
                      "arrowwidth": 1
                    },
                    "autotypenumbers": "strict",
                    "coloraxis": {
                      "colorbar": {
                        "outlinewidth": 1,
                        "tickcolor": "rgb(36,36,36)",
                        "ticks": "outside"
                      }
                    },
                    "colorscale": {
                      "diverging": [
                        [
                          0,
                          "rgb(103,0,31)"
                        ],
                        [
                          0.1,
                          "rgb(178,24,43)"
                        ],
                        [
                          0.2,
                          "rgb(214,96,77)"
                        ],
                        [
                          0.3,
                          "rgb(244,165,130)"
                        ],
                        [
                          0.4,
                          "rgb(253,219,199)"
                        ],
                        [
                          0.5,
                          "rgb(247,247,247)"
                        ],
                        [
                          0.6,
                          "rgb(209,229,240)"
                        ],
                        [
                          0.7,
                          "rgb(146,197,222)"
                        ],
                        [
                          0.8,
                          "rgb(67,147,195)"
                        ],
                        [
                          0.9,
                          "rgb(33,102,172)"
                        ],
                        [
                          1,
                          "rgb(5,48,97)"
                        ]
                      ],
                      "sequential": [
                        [
                          0,
                          "#440154"
                        ],
                        [
                          0.1111111111111111,
                          "#482878"
                        ],
                        [
                          0.2222222222222222,
                          "#3e4989"
                        ],
                        [
                          0.3333333333333333,
                          "#31688e"
                        ],
                        [
                          0.4444444444444444,
                          "#26828e"
                        ],
                        [
                          0.5555555555555556,
                          "#1f9e89"
                        ],
                        [
                          0.6666666666666666,
                          "#35b779"
                        ],
                        [
                          0.7777777777777778,
                          "#6ece58"
                        ],
                        [
                          0.8888888888888888,
                          "#b5de2b"
                        ],
                        [
                          1,
                          "#fde725"
                        ]
                      ],
                      "sequentialminus": [
                        [
                          0,
                          "#440154"
                        ],
                        [
                          0.1111111111111111,
                          "#482878"
                        ],
                        [
                          0.2222222222222222,
                          "#3e4989"
                        ],
                        [
                          0.3333333333333333,
                          "#31688e"
                        ],
                        [
                          0.4444444444444444,
                          "#26828e"
                        ],
                        [
                          0.5555555555555556,
                          "#1f9e89"
                        ],
                        [
                          0.6666666666666666,
                          "#35b779"
                        ],
                        [
                          0.7777777777777778,
                          "#6ece58"
                        ],
                        [
                          0.8888888888888888,
                          "#b5de2b"
                        ],
                        [
                          1,
                          "#fde725"
                        ]
                      ]
                    },
                    "colorway": [
                      "#1F77B4",
                      "#FF7F0E",
                      "#2CA02C",
                      "#D62728",
                      "#9467BD",
                      "#8C564B",
                      "#E377C2",
                      "#7F7F7F",
                      "#BCBD22",
                      "#17BECF"
                    ],
                    "font": {
                      "color": "rgb(36,36,36)"
                    },
                    "geo": {
                      "bgcolor": "white",
                      "lakecolor": "white",
                      "landcolor": "white",
                      "showlakes": true,
                      "showland": true,
                      "subunitcolor": "white"
                    },
                    "hoverlabel": {
                      "align": "left"
                    },
                    "hovermode": "closest",
                    "mapbox": {
                      "style": "light"
                    },
                    "paper_bgcolor": "white",
                    "plot_bgcolor": "white",
                    "polar": {
                      "angularaxis": {
                        "gridcolor": "rgb(232,232,232)",
                        "linecolor": "rgb(36,36,36)",
                        "showgrid": false,
                        "showline": true,
                        "ticks": "outside"
                      },
                      "bgcolor": "white",
                      "radialaxis": {
                        "gridcolor": "rgb(232,232,232)",
                        "linecolor": "rgb(36,36,36)",
                        "showgrid": false,
                        "showline": true,
                        "ticks": "outside"
                      }
                    },
                    "scene": {
                      "xaxis": {
                        "backgroundcolor": "white",
                        "gridcolor": "rgb(232,232,232)",
                        "gridwidth": 2,
                        "linecolor": "rgb(36,36,36)",
                        "showbackground": true,
                        "showgrid": false,
                        "showline": true,
                        "ticks": "outside",
                        "zeroline": false,
                        "zerolinecolor": "rgb(36,36,36)"
                      },
                      "yaxis": {
                        "backgroundcolor": "white",
                        "gridcolor": "rgb(232,232,232)",
                        "gridwidth": 2,
                        "linecolor": "rgb(36,36,36)",
                        "showbackground": true,
                        "showgrid": false,
                        "showline": true,
                        "ticks": "outside",
                        "zeroline": false,
                        "zerolinecolor": "rgb(36,36,36)"
                      },
                      "zaxis": {
                        "backgroundcolor": "white",
                        "gridcolor": "rgb(232,232,232)",
                        "gridwidth": 2,
                        "linecolor": "rgb(36,36,36)",
                        "showbackground": true,
                        "showgrid": false,
                        "showline": true,
                        "ticks": "outside",
                        "zeroline": false,
                        "zerolinecolor": "rgb(36,36,36)"
                      }
                    },
                    "shapedefaults": {
                      "fillcolor": "black",
                      "line": {
                        "width": 0
                      },
                      "opacity": 0.3
                    },
                    "ternary": {
                      "aaxis": {
                        "gridcolor": "rgb(232,232,232)",
                        "linecolor": "rgb(36,36,36)",
                        "showgrid": false,
                        "showline": true,
                        "ticks": "outside"
                      },
                      "baxis": {
                        "gridcolor": "rgb(232,232,232)",
                        "linecolor": "rgb(36,36,36)",
                        "showgrid": false,
                        "showline": true,
                        "ticks": "outside"
                      },
                      "bgcolor": "white",
                      "caxis": {
                        "gridcolor": "rgb(232,232,232)",
                        "linecolor": "rgb(36,36,36)",
                        "showgrid": false,
                        "showline": true,
                        "ticks": "outside"
                      }
                    },
                    "title": {
                      "x": 0.05
                    },
                    "xaxis": {
                      "automargin": true,
                      "gridcolor": "rgb(232,232,232)",
                      "linecolor": "rgb(36,36,36)",
                      "showgrid": false,
                      "showline": true,
                      "ticks": "outside",
                      "title": {
                        "standoff": 15
                      },
                      "zeroline": false,
                      "zerolinecolor": "rgb(36,36,36)"
                    },
                    "yaxis": {
                      "automargin": true,
                      "gridcolor": "rgb(232,232,232)",
                      "linecolor": "rgb(36,36,36)",
                      "showgrid": false,
                      "showline": true,
                      "ticks": "outside",
                      "title": {
                        "standoff": 15
                      },
                      "zeroline": false,
                      "zerolinecolor": "rgb(36,36,36)"
                    }
                  }
                },
                "title": {
                  "text": "Real & Predicted Temperature"
                }
              }
            }
          },
          "metadata": {},
          "output_type": "display_data"
        }
      ],
      "source": [
        "plot_eval(test_predictions)"
      ]
    },
    {
      "cell_type": "markdown",
      "metadata": {
        "id": "S8P_mFrs9MBD"
      },
      "source": [
        "# Parte 3: Transformers"
      ]
    },
    {
      "cell_type": "markdown",
      "metadata": {
        "id": "y7wDY8i_9MBD"
      },
      "source": [
        "Para esta parte vamos a entrenar un transformer muy simple para que aprenda a generar texto como el del Quijote."
      ]
    },
    {
      "cell_type": "markdown",
      "metadata": {
        "id": "D97r64YK9MBD"
      },
      "source": [
        "### 3.1 Cargar el dataset"
      ]
    },
    {
      "cell_type": "code",
      "source": [
        "!wget --no-check-certificate 'https://docs.google.com/uc?export=download&id=1Bao2VlSnoShKulPhO28NSh3fu-CPBhws' -O el_quijote.txt"
      ],
      "metadata": {
        "colab": {
          "base_uri": "https://localhost:8080/"
        },
        "id": "AqgEJ_D49XlK",
        "outputId": "63f88a32-254e-41e5-a887-ced59821a75a"
      },
      "execution_count": null,
      "outputs": [
        {
          "output_type": "stream",
          "name": "stdout",
          "text": [
            "--2023-11-23 00:00:09--  https://docs.google.com/uc?export=download&id=1Bao2VlSnoShKulPhO28NSh3fu-CPBhws\n",
            "Resolving docs.google.com (docs.google.com)... 74.125.134.138, 74.125.134.100, 74.125.134.101, ...\n",
            "Connecting to docs.google.com (docs.google.com)|74.125.134.138|:443... connected.\n",
            "HTTP request sent, awaiting response... 303 See Other\n",
            "Location: https://doc-04-c8-docs.googleusercontent.com/docs/securesc/ha0ro937gcuc7l7deffksulhg5h7mbp1/fcicqkq3jfjo0bduo1qacqijg3tfjo8s/1700697600000/15870504552633603898/*/1Bao2VlSnoShKulPhO28NSh3fu-CPBhws?e=download&uuid=1982c966-9b15-46c9-a65c-4ac9d164d3b7 [following]\n",
            "Warning: wildcards not supported in HTTP.\n",
            "--2023-11-23 00:00:10--  https://doc-04-c8-docs.googleusercontent.com/docs/securesc/ha0ro937gcuc7l7deffksulhg5h7mbp1/fcicqkq3jfjo0bduo1qacqijg3tfjo8s/1700697600000/15870504552633603898/*/1Bao2VlSnoShKulPhO28NSh3fu-CPBhws?e=download&uuid=1982c966-9b15-46c9-a65c-4ac9d164d3b7\n",
            "Resolving doc-04-c8-docs.googleusercontent.com (doc-04-c8-docs.googleusercontent.com)... 74.125.141.132, 2607:f8b0:400c:c06::84\n",
            "Connecting to doc-04-c8-docs.googleusercontent.com (doc-04-c8-docs.googleusercontent.com)|74.125.141.132|:443... connected.\n",
            "HTTP request sent, awaiting response... 200 OK\n",
            "Length: 1060259 (1.0M) [text/plain]\n",
            "Saving to: ‘el_quijote.txt’\n",
            "\n",
            "el_quijote.txt      100%[===================>]   1.01M  --.-KB/s    in 0.01s   \n",
            "\n",
            "2023-11-23 00:00:10 (105 MB/s) - ‘el_quijote.txt’ saved [1060259/1060259]\n",
            "\n"
          ]
        }
      ]
    },
    {
      "cell_type": "code",
      "execution_count": null,
      "metadata": {
        "id": "OELjN3329MBD"
      },
      "outputs": [],
      "source": [
        "with open('el_quijote.txt', 'r', encoding='utf-8') as f:\n",
        "    text = f.read()"
      ]
    },
    {
      "cell_type": "code",
      "execution_count": null,
      "metadata": {
        "id": "5EHcJlIx9MBD",
        "outputId": "22f86481-67e1-4d86-c8d8-9d0ca3c480ce",
        "colab": {
          "base_uri": "https://localhost:8080/"
        }
      },
      "outputs": [
        {
          "output_type": "stream",
          "name": "stdout",
          "text": [
            "length of dataset in characters:  1038397\n"
          ]
        }
      ],
      "source": [
        "print(\"length of dataset in characters: \", len(text))"
      ]
    },
    {
      "cell_type": "code",
      "execution_count": null,
      "metadata": {
        "id": "zggntVkk9MBD",
        "outputId": "91251a27-03df-4db0-d45a-256f6b0fc35b",
        "colab": {
          "base_uri": "https://localhost:8080/"
        }
      },
      "outputs": [
        {
          "output_type": "stream",
          "name": "stdout",
          "text": [
            "DON QUIJOTE DE LA MANCHA\n",
            "Miguel de Cervantes Saavedra\n",
            "\n",
            "PRIMERA PARTE\n",
            "CAPÍTULO 1: Que trata de la condición y ejercicio del famoso hidalgo D. Quijote de la Mancha\n",
            "En un lugar de la Mancha, de cuyo nombre no quiero acordarme, no ha mucho tiempo que vivía un hidalgo de los de lanza en astillero, adarga antigua, rocín flaco y galgo corredor. Una olla de algo más vaca que carnero, salpicón las más noches, duelos y quebrantos los sábados, lentejas los viernes, algún palomino de añadidura los domingos, consumían las tres partes de su hacienda. El resto della concluían sayo de velarte, calzas de velludo para las fiestas con sus pantuflos de lo mismo, los días de entre semana se honraba con su vellori de lo más fino. Tenía en su casa una ama que pasaba de los cuarenta, y una sobrina que no llegaba a los veinte, y un mozo de campo y plaza, que así ensillaba el rocín como tomaba la podadera. Frisaba la edad de nuestro hidalgo con los cincuenta años, era de complexión recia, sec\n"
          ]
        }
      ],
      "source": [
        "# Visualizamos los primeros 1000 caracteres\n",
        "print(text[:1000])"
      ]
    },
    {
      "cell_type": "markdown",
      "metadata": {
        "id": "H-_LlL6-9MBE"
      },
      "source": [
        "### 3.2 Preprocesar el dataset"
      ]
    },
    {
      "cell_type": "markdown",
      "metadata": {
        "id": "YxS_Q5e29MBF"
      },
      "source": [
        "Vamos a crear un tokenizador muy simple que convierta el texto en una secuencia de números."
      ]
    },
    {
      "cell_type": "code",
      "execution_count": null,
      "metadata": {
        "id": "ZJsrMgZz9MBF",
        "outputId": "487104b1-1d78-498a-ceb2-4dfd5767f75c",
        "colab": {
          "base_uri": "https://localhost:8080/"
        }
      },
      "outputs": [
        {
          "output_type": "stream",
          "name": "stdout",
          "text": [
            "Caracteres unicos: 9¡QaABqmo<g1ir.7'Tu08VN«x\"Ey5]̀lF6dn3X”!SW4’RPOZ)sC‘pLf:vM-D[jJcbGhI;–̃K2\n",
            "z ,Ye»Ut?̈“(H́¿\n",
            "Largo del vocabulario: 89\n"
          ]
        }
      ],
      "source": [
        "chars = list(set(text.strip()))\n",
        "vocab_size = len(chars)\n",
        "print('Caracteres unicos:',''.join(chars))\n",
        "print('Largo del vocabulario:',vocab_size)"
      ]
    },
    {
      "cell_type": "markdown",
      "metadata": {
        "id": "Qhnpca_x9MBF"
      },
      "source": [
        "### 3.3 Encoding y Decoding"
      ]
    },
    {
      "cell_type": "markdown",
      "metadata": {
        "id": "3CuIIuzu9MBF"
      },
      "source": [
        "Ahora que tenemos el tokenizador, vamos a crear una función que nos permita convertir el texto en una secuencia de números y viceversa."
      ]
    },
    {
      "cell_type": "code",
      "execution_count": null,
      "metadata": {
        "id": "0J60Clr29MBF",
        "outputId": "4007f2f6-d1bb-4b0c-aa57-1ebe8c499086",
        "colab": {
          "base_uri": "https://localhost:8080/"
        }
      },
      "outputs": [
        {
          "output_type": "stream",
          "name": "stdout",
          "text": [
            "[2, 18, 12, 61, 8, 81, 78, 75, 34, 78, 75, 31, 3, 75, 57, 3, 35, 63, 66, 3]\n",
            "Quijote de la Mancha\n"
          ]
        }
      ],
      "source": [
        "# Mapeamos cada caracter a un entero\n",
        "stoi = { ch:i for i,ch in enumerate(chars) }\n",
        "itos = { i:ch for i,ch in enumerate(chars) }\n",
        "encode = lambda s: [stoi[c] for c in s] # encoder: toma un string, devuelve una lista de enteros\n",
        "decode = lambda l: ''.join([itos[i] for i in l]) # decoder: toma una lista de enteros, devuelve un string\n",
        "\n",
        "print(encode(\"Quijote de la Mancha\"))\n",
        "print(decode(encode(\"Quijote de la Mancha\")))"
      ]
    },
    {
      "cell_type": "markdown",
      "metadata": {
        "id": "reZHvMA69MBG"
      },
      "source": [
        "**pregunta: Que otros tipos de tokenizaciones ademas de por caracteres existen y cuales serian las ventajas?**\n",
        "\n",
        "* Tokenización por Palabras: Divide el texto en palabras individuales, lo que puede facilitar el análisis semántico. Es útil para muchas tareas de NLP, como el análisis de sentimientos, la clasificación de documentos y la generación de texto.\n",
        "* Tokenización por Frases: Divide el texto en oraciones individuales. Es útil para tareas que requieren el procesamiento de oraciones completas, como la traducción automática y el resumen de texto.\n",
        "* Tokenización por Subpalabras: Divide el texto en unidades más pequeñas que las palabras, como subpalabras. Este enfoque es útil para tratar con palabras desconocidas, lidiar con errores tipográficos o reducir el vocabulario, lo que puede ser beneficioso en modelos de lenguaje y tareas de NLP.\n",
        "* Tokenización por N-gramas: Divide el texto en secuencias contiguas de N elementos, como bigramas (2-gramas) o trigramas (3-gramas). Este enfoque puede capturar mejor las relaciones contextuales en el texto."
      ]
    },
    {
      "cell_type": "markdown",
      "metadata": {
        "id": "cOhwzJa49MBG"
      },
      "source": [
        "**Pregunta: ¿que otras tecnicas se utilizan antes de tokenizar en problemas de NLP?**\n",
        "\n",
        "Se pueden emplear técnicas de limpieza de texto para mejorar la calidad y la uniformidad de los datos. Esto incluye la eliminación de caracteres especiales, puntuación innecesaria y cualquier otro símbolo no relevante para reducir el ruido. Asimismo, convertir todo el texto a minúsculas asegura consistencia en el análisis. Además, se puede llevar a cabo la eliminación de stopwords, que consiste en desechar palabras comunes que aportan poco significado al texto, como \"y\", \"el\", \"un\", etc. Otras técnicas útiles son la normalización del texto, el manejo de números y fechas, y la eliminación de URLs."
      ]
    },
    {
      "cell_type": "markdown",
      "metadata": {
        "id": "L8DM_tHx9MBG"
      },
      "source": [
        "### 3.4 Train y Val Split"
      ]
    },
    {
      "cell_type": "code",
      "execution_count": null,
      "metadata": {
        "id": "fqtqq-Fw9MBG",
        "outputId": "4bc28ab7-fb88-429b-ff70-210153936362",
        "colab": {
          "base_uri": "https://localhost:8080/"
        }
      },
      "outputs": [
        {
          "output_type": "stream",
          "name": "stdout",
          "text": [
            "torch.Size([830717]) torch.int64\n",
            "tensor([59, 46, 22, 75,  2, 80, 67, 62, 46, 17, 26, 75, 59, 26, 75, 53,  4, 75,\n",
            "        57,  4, 22, 50, 86,  4, 73, 57, 12, 10, 18, 78, 31, 75, 34, 78, 75, 50,\n",
            "        78, 13, 56,  3, 35, 81, 78, 49, 75, 40,  3,  3, 56, 78, 34, 13,  3, 73,\n",
            "        73, 45, 44, 67, 57, 26, 44,  4, 75, 45,  4, 44, 17, 26, 73, 50,  4, 45,\n",
            "        67, 87, 17, 80, 53, 46, 75, 11, 55, 75,  2, 18, 78, 75, 81, 13,  3, 81,\n",
            "         3, 75, 34, 78, 75, 31,  3, 75, 63,  8])\n"
          ]
        }
      ],
      "source": [
        "# Vamos a Codificar el texto y llevarlo a un tensor de Pytorch\n",
        "data = torch.tensor(encode(text), dtype=torch.long)\n",
        "\n",
        "# Separamos en train y validation\n",
        "n = int(len(text) * 0.8) #% de los datos para entrenar\n",
        "train_data = data[:n]\n",
        "val_data = data[n:]\n",
        "\n",
        "print(train_data.shape, train_data.dtype)\n",
        "print(train_data[:100]) # los primeros 100 caracteres del texto codificado"
      ]
    },
    {
      "cell_type": "markdown",
      "metadata": {
        "id": "VGzCKUaS9MBG"
      },
      "source": [
        "### 3.5 Generando sequencias de texto"
      ]
    },
    {
      "cell_type": "markdown",
      "metadata": {
        "id": "WAsPIJ899MBH"
      },
      "source": [
        "El transformer es una arquitectura de secuencias, por lo que necesitamos generar las secuencias de texto que vamos a utilizar para entrenar el modelo."
      ]
    },
    {
      "cell_type": "code",
      "execution_count": null,
      "metadata": {
        "id": "rRn2gBdN9MBH"
      },
      "outputs": [],
      "source": [
        "batch_size = 4 # cuantas secuencias de texto vamos a procesar en paralelo\n",
        "block_size = 8 # definimos el largo de nuestra sequencia\n",
        "\n",
        "def get_batch(split):\n",
        "    # generamos un batch de datos\n",
        "    data = train_data if split == 'train' else val_data\n",
        "    ix = torch.randint(len(data) - block_size, (batch_size,))\n",
        "    x = torch.stack([data[i:i+block_size] for i in ix])\n",
        "    y = torch.stack([data[i+1:i+block_size+1] for i in ix])\n",
        "    x, y = x.to(device), y.to(device)\n",
        "    return x, y"
      ]
    },
    {
      "cell_type": "code",
      "execution_count": null,
      "metadata": {
        "id": "ZZnybRXD9MBH",
        "outputId": "2fe51c01-7282-4d69-f1ed-d3d6f1385a87",
        "colab": {
          "base_uri": "https://localhost:8080/"
        }
      },
      "outputs": [
        {
          "output_type": "stream",
          "name": "stdout",
          "text": [
            "inputs:\n",
            "torch.Size([4, 8])\n",
            "tensor([[ 3, 13,  6, 18, 78, 87, 49, 75],\n",
            "        [75, 56, 78, 49, 81, 12, 34,  8],\n",
            "        [ 3, 75,  7, 18, 61, 78, 13, 12],\n",
            "        [63, 12, 78, 13, 81,  8, 75,  6]])\n",
            "targets:\n",
            "torch.Size([4, 8])\n",
            "tensor([[13,  6, 18, 78, 87, 49, 75, 34],\n",
            "        [56, 78, 49, 81, 12, 34,  8, 49],\n",
            "        [75,  7, 18, 61, 78, 13, 12, 78],\n",
            "        [12, 78, 13, 81,  8, 75,  6, 18]])\n",
            "----\n",
            "cuando el input es tensor([3]) el target es: 13\n",
            "cuando el input es tensor([ 3, 13]) el target es: 6\n",
            "cuando el input es tensor([ 3, 13,  6]) el target es: 18\n",
            "cuando el input es tensor([ 3, 13,  6, 18]) el target es: 78\n",
            "cuando el input es tensor([ 3, 13,  6, 18, 78]) el target es: 87\n",
            "cuando el input es tensor([ 3, 13,  6, 18, 78, 87]) el target es: 49\n",
            "cuando el input es tensor([ 3, 13,  6, 18, 78, 87, 49]) el target es: 75\n",
            "cuando el input es tensor([ 3, 13,  6, 18, 78, 87, 49, 75]) el target es: 34\n",
            "cuando el input es tensor([75]) el target es: 56\n",
            "cuando el input es tensor([75, 56]) el target es: 78\n",
            "cuando el input es tensor([75, 56, 78]) el target es: 49\n",
            "cuando el input es tensor([75, 56, 78, 49]) el target es: 81\n",
            "cuando el input es tensor([75, 56, 78, 49, 81]) el target es: 12\n",
            "cuando el input es tensor([75, 56, 78, 49, 81, 12]) el target es: 34\n",
            "cuando el input es tensor([75, 56, 78, 49, 81, 12, 34]) el target es: 8\n",
            "cuando el input es tensor([75, 56, 78, 49, 81, 12, 34,  8]) el target es: 49\n",
            "cuando el input es tensor([3]) el target es: 75\n",
            "cuando el input es tensor([ 3, 75]) el target es: 7\n",
            "cuando el input es tensor([ 3, 75,  7]) el target es: 18\n",
            "cuando el input es tensor([ 3, 75,  7, 18]) el target es: 61\n",
            "cuando el input es tensor([ 3, 75,  7, 18, 61]) el target es: 78\n",
            "cuando el input es tensor([ 3, 75,  7, 18, 61, 78]) el target es: 13\n",
            "cuando el input es tensor([ 3, 75,  7, 18, 61, 78, 13]) el target es: 12\n",
            "cuando el input es tensor([ 3, 75,  7, 18, 61, 78, 13, 12]) el target es: 78\n",
            "cuando el input es tensor([63]) el target es: 12\n",
            "cuando el input es tensor([63, 12]) el target es: 78\n",
            "cuando el input es tensor([63, 12, 78]) el target es: 13\n",
            "cuando el input es tensor([63, 12, 78, 13]) el target es: 81\n",
            "cuando el input es tensor([63, 12, 78, 13, 81]) el target es: 8\n",
            "cuando el input es tensor([63, 12, 78, 13, 81,  8]) el target es: 75\n",
            "cuando el input es tensor([63, 12, 78, 13, 81,  8, 75]) el target es: 6\n",
            "cuando el input es tensor([63, 12, 78, 13, 81,  8, 75,  6]) el target es: 18\n"
          ]
        }
      ],
      "source": [
        "xb, yb = get_batch('train')\n",
        "print('inputs:')\n",
        "print(xb.shape)\n",
        "print(xb)\n",
        "print('targets:')\n",
        "print(yb.shape)\n",
        "print(yb)\n",
        "\n",
        "print('----')\n",
        "\n",
        "for b in range(batch_size): # batch dimension\n",
        "    for t in range(block_size): # time dimension\n",
        "        context = xb[b, :t+1]\n",
        "        target = yb[b,t]\n",
        "        print(f\"cuando el input es {context} el target es: {target}\")"
      ]
    },
    {
      "cell_type": "markdown",
      "metadata": {
        "id": "j6skYigI9MBH"
      },
      "source": [
        "### 3.6 Creando el modelo"
      ]
    },
    {
      "cell_type": "markdown",
      "metadata": {
        "id": "mxOshaJL9MBH"
      },
      "source": [
        "Vamos a crear un modelo naive que consiste en una capa de embedding, y una capa de salida que predice la siguiente palabra"
      ]
    },
    {
      "cell_type": "code",
      "execution_count": null,
      "metadata": {
        "id": "o3odX5T-9MBH"
      },
      "outputs": [],
      "source": [
        "class BigramLanguageModel(nn.Module):\n",
        "\n",
        "    def __init__(self, vocab_size):\n",
        "        super().__init__()\n",
        "        # cada token se representa como un vector de vocab_size dimensiones\n",
        "        self.token_embedding_table = nn.Embedding(vocab_size, vocab_size)\n",
        "\n",
        "    def forward(self, idx, targets=None):\n",
        "\n",
        "        # idx y targets son (B, T) arrays de indices en el vocabulario\n",
        "        logits = self.token_embedding_table(idx) # (B,T,C)\n",
        "\n",
        "        if targets is None:\n",
        "            loss = None\n",
        "        else:\n",
        "            B, T, C = logits.shape\n",
        "            logits = logits.view(B*T, C)\n",
        "            targets = targets.view(B*T)\n",
        "            loss = F.cross_entropy(logits, targets)\n",
        "        return logits, loss\n",
        "\n",
        "    def generate(self, idx, max_new_tokens):\n",
        "        for _ in range(max_new_tokens):\n",
        "            # Obtener los logits y la pérdida\n",
        "            logits, loss = self(idx)\n",
        "            # Selecciona los logits correspondientes al último token\n",
        "            logits = logits[:, -1, :]\n",
        "            # Calcula las probabilidades normalizadas a partir de los logits\n",
        "            probs = F.softmax(logits, dim=-1)\n",
        "            # seleccionar el próximo token de acuerdo con la distribución de probabilidad\n",
        "            idx_next = torch.multinomial(probs, num_samples=1)\n",
        "            # Concatena el token al final de la secuencia actual\n",
        "            idx = torch.cat((idx, idx_next), dim=1)\n",
        "        return idx"
      ]
    },
    {
      "cell_type": "markdown",
      "metadata": {
        "id": "t7aIlF159MBH"
      },
      "source": [
        "**Pregunta: Explique que hace la funcion Generate (indicar que hace cada linea de la funcion)**\n",
        "\n",
        "Genera una cantidad max_new_tokens de caracteres a partir de un prompt inicial idx."
      ]
    },
    {
      "cell_type": "code",
      "execution_count": null,
      "metadata": {
        "id": "5jL0CsZI9MBH"
      },
      "outputs": [],
      "source": [
        "# Hiperparametros\n",
        "naive_model = BigramLanguageModel(vocab_size)\n",
        "optimizer = torch.optim.AdamW(naive_model.parameters())\n",
        "batch_size = 52\n",
        "epochs = 200"
      ]
    },
    {
      "cell_type": "markdown",
      "metadata": {
        "id": "PqyKCemV9MBI"
      },
      "source": [
        "En esta seccion deberan crear un loop de entrenamiento para esto pueden revisar la documentacion de [Pytorch](https://pytorch.org/docs/stable/index.html)"
      ]
    },
    {
      "cell_type": "code",
      "execution_count": null,
      "metadata": {
        "id": "7iTQTa_Z9MBI",
        "outputId": "755c23d9-0e87-4b0d-e5f5-ba9ce5d7b016",
        "colab": {
          "base_uri": "https://localhost:8080/"
        }
      },
      "outputs": [
        {
          "output_type": "stream",
          "name": "stdout",
          "text": [
            "Epoch 0 | Loss 4.9093\n",
            "Epoch 10 | Loss 5.0065\n",
            "Epoch 20 | Loss 4.9271\n",
            "Epoch 30 | Loss 4.9953\n",
            "Epoch 40 | Loss 4.8515\n",
            "Epoch 50 | Loss 4.9216\n",
            "Epoch 60 | Loss 4.9054\n",
            "Epoch 70 | Loss 4.9186\n",
            "Epoch 80 | Loss 4.9948\n",
            "Epoch 90 | Loss 4.8452\n",
            "Epoch 100 | Loss 4.8297\n",
            "Epoch 110 | Loss 4.8190\n",
            "Epoch 120 | Loss 4.9635\n",
            "Epoch 130 | Loss 4.8094\n",
            "Epoch 140 | Loss 4.7623\n",
            "Epoch 150 | Loss 4.7858\n",
            "Epoch 160 | Loss 4.6812\n",
            "Epoch 170 | Loss 4.7212\n",
            "Epoch 180 | Loss 4.7236\n",
            "Epoch 190 | Loss 4.7663\n"
          ]
        }
      ],
      "source": [
        "# Entrenamiento\n",
        "for i in range(epochs):\n",
        "    # obtenemos un batch de datos\n",
        "    x, y = get_batch('train')\n",
        "\n",
        "    # Obtenemos las predicciones del modelo y la loss\n",
        "    preds, loss = naive_model.forward(x,y)\n",
        "\n",
        "    # reseteamos el gradiente\n",
        "    optimizer.zero_grad()\n",
        "\n",
        "    # Backward Pass\n",
        "    loss.backward()\n",
        "\n",
        "    # Actualizamos los pesos\n",
        "    optimizer.step()\n",
        "\n",
        "    # Visualizamos el resultado cada 10 iteraciones\n",
        "    if i % 10 == 0:\n",
        "        print(f\"Epoch {i} | Loss {loss.item():.4f}\")"
      ]
    },
    {
      "cell_type": "code",
      "execution_count": null,
      "metadata": {
        "id": "fex8AByd9MBI",
        "outputId": "5bd58006-50e2-491d-dd8a-6fcdfbd78369",
        "colab": {
          "base_uri": "https://localhost:8080/"
        }
      },
      "outputs": [
        {
          "output_type": "stream",
          "name": "stdout",
          "text": [
            "loss: 4.679775714874268\n",
            "Vhymc[́I¿'yzDRq́p.̀[Telpr̀Rgl\n",
            "’y¿TL¡J«[!u ?E’¡ZKD9l;3.–sI1ODh¿(T':Pć«tLmM̈’A-eb)s‘,G08[<xo(Lä̃8A«t'\n"
          ]
        }
      ],
      "source": [
        "print('loss:', loss.item())\n",
        "print(decode(naive_model.generate(idx = torch.zeros((1, 1), dtype=torch.long), max_new_tokens=100)[0].tolist()))"
      ]
    },
    {
      "cell_type": "markdown",
      "metadata": {
        "id": "TkOtCYC-9MBI"
      },
      "source": [
        "Como vemos el modelo no es capaaz de generar texto coherente, para esto vamos a utilizar un transformer."
      ]
    },
    {
      "cell_type": "markdown",
      "metadata": {
        "id": "8uoLKR6X9MBI"
      },
      "source": [
        "### 3.7 Transformer"
      ]
    },
    {
      "cell_type": "markdown",
      "metadata": {
        "id": "a7DXGdqR9MBI"
      },
      "source": [
        "El transformer es una arquitectura de secuencias que utiliza atención para poder capturar dependencias de largo plazo, en esta seccion deberan completar las lineas de codigo faltantes, para esto pueden revisar el paper originar [Attention is all you need](https://arxiv.org/pdf/1706.03762.pdf) y la documentacion de [Pytorch](https://pytorch.org/docs/stable/index.html)"
      ]
    },
    {
      "cell_type": "code",
      "execution_count": null,
      "metadata": {
        "id": "RT6LuGzf9MBI"
      },
      "outputs": [],
      "source": [
        "n_embd = 512 # dimension de los embeddings\n",
        "n_head = 8 # numero de cabezas de atencion\n",
        "n_layer = 6 # numero de capas\n",
        "dropout = 0.1 # dropout"
      ]
    },
    {
      "cell_type": "code",
      "execution_count": null,
      "metadata": {
        "id": "-cAsdkKG9MBJ"
      },
      "outputs": [],
      "source": [
        "class Head(nn.Module):\n",
        "    \"\"\" cabezal de auto-atencion \"\"\"\n",
        "\n",
        "    def __init__(self, head_size):\n",
        "        super().__init__()\n",
        "        self.key = nn.Linear(n_embd, head_size)\n",
        "        self.query = nn.Linear(n_embd, head_size)\n",
        "        self.value = nn.Linear(n_embd, head_size)\n",
        "        self.register_buffer('tril', torch.tril(torch.ones(block_size, block_size)))\n",
        "        self.dropout = nn.Dropout(dropout)\n",
        "    def forward(self, x):\n",
        "        B,T,C = x.shape\n",
        "        k = self.key(x)\n",
        "        q = self.query(x)\n",
        "        # Calcula la matriz de pesos (Afinidades)\n",
        "        wei = q @ k.transpose(-2,-1) * C**-0.5 # (B, T, C) @ (B, C, T) -> (B, T, T)\n",
        "        wei = wei.masked_fill(self.tril[:T, :T] == 0, float('-inf')) # (B, T, T)\n",
        "        softmax = nn.Softmax(dim=-1)\n",
        "        dropout = self.dropout(softmax(wei))\n",
        "        # Calcula la ponderacion de los valores por los pesos atencionales\n",
        "        v = self.value(x)\n",
        "        out = dropout @ v\n",
        "        return out"
      ]
    },
    {
      "cell_type": "markdown",
      "metadata": {
        "id": "z8I0y_qr9MBJ"
      },
      "source": [
        "**Pregunta: En sus propias palabras explique como funciona el mecanismo de auto-atencion**\n",
        "\n",
        "Permite a una red neuronal concentrarse más o menos en distintos segmentos de la secuencia de input, regulando la importancia que le da a cada uno."
      ]
    },
    {
      "cell_type": "code",
      "execution_count": null,
      "metadata": {
        "id": "hmqRE9bV9MBJ"
      },
      "outputs": [],
      "source": [
        "class MultiHeadAttention(nn.Module):\n",
        "    \"\"\" Multiples cabezales de auto-atencion \"\"\"\n",
        "\n",
        "    def __init__(self, num_heads, head_size):\n",
        "        super().__init__()\n",
        "        self.heads = nn.ModuleList([Head(head_size) for _ in range(num_heads)])\n",
        "        self.proj = nn.Linear(n_embd, n_embd)\n",
        "        self.dropout = nn.Dropout(dropout)\n",
        "\n",
        "    def forward(self, x):\n",
        "        out = torch.cat([h(x) for h in self.heads], dim=-1)\n",
        "        out = self.dropout(self.proj(out))\n",
        "        return out"
      ]
    },
    {
      "cell_type": "code",
      "execution_count": null,
      "metadata": {
        "id": "PmF_Jiqi9MBJ"
      },
      "outputs": [],
      "source": [
        "class FeedFoward(nn.Module):\n",
        "    \"\"\" Capa FeedForward \"\"\"\n",
        "\n",
        "    def __init__(self, n_embd):\n",
        "        super().__init__()\n",
        "        self.net = nn.Sequential(\n",
        "            nn.Linear(n_embd,n_embd),\n",
        "            nn.ReLU(),\n",
        "            nn.Linear(n_embd,n_embd)\n",
        "        )\n",
        "\n",
        "    def forward(self, x):\n",
        "        return self.net(x)"
      ]
    },
    {
      "cell_type": "code",
      "execution_count": null,
      "metadata": {
        "id": "c-y1BmRR9MBJ"
      },
      "outputs": [],
      "source": [
        "class Block(nn.Module):\n",
        "    \"\"\" Bloque de Transformer \"\"\"\n",
        "\n",
        "    def __init__(self, n_embd, n_head):\n",
        "        # n_embd: embedding dimension, n_head: the number of heads we'd like\n",
        "        super().__init__()\n",
        "        head_size = n_embd // n_head\n",
        "        self.sa = MultiHeadAttention(n_head, head_size)\n",
        "        self.ffwd = FeedFoward(n_embd)\n",
        "        self.ln1 = nn.LayerNorm(n_embd)\n",
        "        self.ln2 = nn.LayerNorm(n_embd)\n",
        "\n",
        "    def forward(self, x):\n",
        "        x = x + self.sa(self.ln1(x))\n",
        "        x = x + self.ffwd(self.ln2(x))\n",
        "        return x"
      ]
    },
    {
      "cell_type": "markdown",
      "metadata": {
        "id": "zn5ww6fi9MBJ"
      },
      "source": [
        "**Pregunta: Que parte del transformer estamos implementando?**\n",
        "\n",
        "Se implementa la atención multi cabeza y la parte feedforward en un bloque transformer. Este bloque luego puede ser reutilizado muchas veces para construir modelos de mayor complejidad."
      ]
    },
    {
      "cell_type": "code",
      "execution_count": null,
      "metadata": {
        "id": "whD_64Go9MBJ"
      },
      "outputs": [],
      "source": [
        "# Ahora definimos el modelo completo con los bloques de Transformer\n",
        "class BigramLanguageModel(nn.Module):\n",
        "\n",
        "    def __init__(self):\n",
        "        super().__init__()\n",
        "        self.token_embedding_table = nn.Embedding(vocab_size, n_embd)\n",
        "        self.position_embedding_table = nn.Embedding(block_size, n_embd)\n",
        "        self.blocks = nn.Sequential(*[Block(n_embd, n_head=n_head) for _ in range(n_layer)])\n",
        "        self.ln_f = nn.LayerNorm(n_embd) # final layer norm\n",
        "        self.lm_head = nn.Linear(n_embd, vocab_size)\n",
        "\n",
        "    def forward(self, idx, targets=None):\n",
        "\n",
        "        B, T = idx.shape\n",
        "        tok_emb = self.token_embedding_table(idx) # (B,T,C)\n",
        "        pos_emb = self.position_embedding_table(torch.arange(T, device=device)) # (T,C)\n",
        "\n",
        "        x = tok_emb + pos_emb # (B,T,C)\n",
        "\n",
        "        x = self.blocks(x) # (B,T,C)\n",
        "\n",
        "        x = self.ln_f(x) # (B,T,C)\n",
        "        logits = self.lm_head(x) # (B,T,vocab_size)\n",
        "\n",
        "        if targets is None:\n",
        "            loss = None\n",
        "        else:\n",
        "            B, T, C = logits.shape\n",
        "            logits = logits.view(B*T, C)\n",
        "            targets = targets.view(B*T)\n",
        "            loss = F.cross_entropy(logits, targets)\n",
        "\n",
        "        return logits, loss\n",
        "\n",
        "    def generate(self, idx, max_new_tokens):\n",
        "        for _ in range(max_new_tokens):\n",
        "            idx_cond = idx[:, -block_size:]\n",
        "            logits, loss = self(idx_cond)\n",
        "            logits = logits[:, -1, :] # (B, C)\n",
        "            probs = F.softmax(logits, dim=-1) # (B, C)\n",
        "            idx_next = torch.multinomial(probs, num_samples=1) # (B, 1)\n",
        "            idx = torch.cat((idx, idx_next), dim=1) # (B, T+1)\n",
        "        return idx"
      ]
    },
    {
      "cell_type": "markdown",
      "metadata": {
        "id": "S6tHRXaD9MBK"
      },
      "source": [
        "**Bonus: Desde que salio el transformer se han publicado mejoras para esta arquitectura, si implementan alguna mejora con la referencia del paper en cuestion obtendran un bonus, se atreven?**\n",
        "\n",
        "No :( Pytorch esta bizarro"
      ]
    },
    {
      "cell_type": "code",
      "execution_count": null,
      "metadata": {
        "id": "9aXRVhBE9MBK",
        "outputId": "77eed25f-90fd-4ff2-9b87-d05fe652d317",
        "colab": {
          "base_uri": "https://localhost:8080/"
        }
      },
      "outputs": [
        {
          "output_type": "stream",
          "name": "stdout",
          "text": [
            "9.564249 M parameters\n"
          ]
        }
      ],
      "source": [
        "model = BigramLanguageModel()\n",
        "m = model.to(device)\n",
        "\n",
        "# Parametros del modelo\n",
        "print(sum(p.numel() for p in m.parameters())/1e6, 'M parameters')\n",
        "\n",
        "# Hiperparametros\n",
        "lr = 0.001\n",
        "optimizer = torch.optim.Adam(m.parameters(), lr=lr)\n",
        "epochs = 1000\n",
        "eval_interval = 100\n",
        "eval_iters = 200"
      ]
    },
    {
      "cell_type": "code",
      "execution_count": null,
      "metadata": {
        "id": "pgvjXgeG9MBK"
      },
      "outputs": [],
      "source": [
        "# Funcion de evaluar el modelo\n",
        "@torch.no_grad()\n",
        "def estimate_loss():\n",
        "    out = {}\n",
        "    model.eval()\n",
        "    for split in ['train', 'val']:\n",
        "        losses = torch.zeros(eval_iters)\n",
        "        for k in range(eval_iters):\n",
        "            X, Y = get_batch(split)\n",
        "            logits, loss = model(X, Y)\n",
        "            losses[k] = loss.item()\n",
        "        out[split] = losses.mean()\n",
        "    model.train()\n",
        "    return out"
      ]
    },
    {
      "cell_type": "code",
      "source": [
        "for i in range(epochs):\n",
        "    # cada 100 iteraciones evaluamos el modelo\n",
        "    if i % eval_interval == 0 or i == epochs - 1:\n",
        "        losses = estimate_loss()\n",
        "        print(f\"step {i}: train loss {losses['train']:.4f}, val loss {losses['val']:.4f}\")\n",
        "\n",
        "    # obtenemos un batch de datos\n",
        "    x, y = get_batch('train')\n",
        "\n",
        "    # Obtenemos las predicciones del modelo y la loss\n",
        "    preds, loss = model.forward(x,y)\n",
        "\n",
        "    # reseteamos el gradiente\n",
        "    optimizer.zero_grad()\n",
        "\n",
        "    # Backward Pass\n",
        "    loss.backward()\n",
        "\n",
        "    # Actualizamos los pesos\n",
        "    optimizer.step()"
      ],
      "metadata": {
        "colab": {
          "base_uri": "https://localhost:8080/"
        },
        "id": "PBnQBG7XcUVR",
        "outputId": "e60bf82b-f546-455b-ab07-792db5c82e2f"
      },
      "execution_count": null,
      "outputs": [
        {
          "output_type": "stream",
          "name": "stdout",
          "text": [
            "step 0: train loss 4.6147, val loss 4.6272\n",
            "step 100: train loss 2.5387, val loss 2.5568\n",
            "step 200: train loss 2.4358, val loss 2.4339\n",
            "step 300: train loss 2.4377, val loss 2.4370\n",
            "step 400: train loss 2.3312, val loss 2.4218\n",
            "step 500: train loss 2.3120, val loss 2.3170\n",
            "step 600: train loss 2.3502, val loss 2.3723\n",
            "step 700: train loss 2.2816, val loss 2.3605\n",
            "step 800: train loss 2.3367, val loss 2.3687\n",
            "step 900: train loss 2.2734, val loss 2.2886\n",
            "step 999: train loss 2.2584, val loss 2.2767\n"
          ]
        }
      ]
    },
    {
      "cell_type": "code",
      "execution_count": null,
      "metadata": {
        "id": "XWm3CB1f9MBK",
        "outputId": "4b41ce54-6e04-44ab-d4c5-5c258b5dcb4d",
        "colab": {
          "base_uri": "https://localhost:8080/"
        }
      },
      "outputs": [
        {
          "output_type": "stream",
          "name": "stdout",
          "text": [
            "9os mo colal magall mán eltenen, se centan podarer aná la el uvilo na copuudhal geln re tegpesstodo on pol e-calte ey Ben nome coquedinalabre laghamon pommodados vá lala he rálí lestaEas ejaque cortelvóls al tenis te tedquen. hotrasisdo sú stadmol que R ari, pomilmu en tátragas ole sicucunto vintra a. ponto– y a Y la porvo ol stimal, von emte pel poagonque mez ar conta toude,, delaque Rocos helas en lo que, poque l berarl qué a labbrambrY o zorcie metomllste cod peiototós se do ven ar, ca fechos niciỹmos a s hunintos terden vese cicopenen que demrgid quegue funa el, e tentos velcodell ada tri asuponda Ben omó mrtosun mocuesmbod égon veno digubintdar avelán miar que alo ecita, enzontos polgol dé Co dbálgie: do! en Zod lan alaguntor RRon a, vonmera. anto hoque pos anoreala rerll comirdes sto, pen cue s mól en le síicbro? pos coml os .y ocon Ros erl que hue por er cocen quen entecid iCeño qubbos; poundila gotióa, altitrantont, Rellaltubalged enter co, pon colgun pir senton que al ́s  ele palal combrerar la las amhara a de migar que estelamidad figer eten que mo puer ás en paquevismas, pes de menta degcaravdetar, volmabon ten Que y sadta que pan man potcar cel legbra. cod cotor tuncumigal se za pacopoquesthe enté sabbintos el vicumi codbo eristigos permingos aque do pos que quese poste viesmétor enton mimMalvo; que inticoS amisten cieraN evelamquélque Re bestalgu vat ¿gosn non -ue do Ro giichal do da tustemos quelpa calguy entrhol soromo enlin, que ques piFlamhaltaquel l ten allasbion Roramaddo eh a ho cocolto en ha qucordo an idan so querte dofque\n",
            "polla todor lantuenti tl al te lamostomen pel podid caque da á cál e egomtiy fucbue poto al fellacal ambichrud muntir, cute puento vollan taste podas pia pion tosfental a tín pergelas, helallndojó per que habe lel cobies lejon iddepoque de de potr cuna síe mo mós Al pre y ca-da y desteccé cedá le; degísegundo do qua degin ciarcod Yegomeliplo, ocoa memo putelamemala os que ¡hinton lontelgr, lnse\n"
          ]
        }
      ],
      "source": [
        "# Generamos las predicciones\n",
        "context = torch.zeros((1, 1), dtype=torch.long, device=device)\n",
        "print(decode(m.generate(context, max_new_tokens=2000)[0].tolist()))"
      ]
    },
    {
      "cell_type": "markdown",
      "metadata": {
        "id": "b46340Kv9MBK"
      },
      "source": [
        "Ahora las predicciones ya tienen un poco de sentido, podemos seguir entrenando el modelo para que genere texto más coherente y pueden utilizar el modelo cambiando el archivo de input para generar texto de otros libros o de lo que ustedes quieran."
      ]
    }
  ],
  "metadata": {
    "kernelspec": {
      "display_name": "tf",
      "language": "python",
      "name": "python3"
    },
    "language_info": {
      "codemirror_mode": {
        "name": "ipython",
        "version": 3
      },
      "file_extension": ".py",
      "mimetype": "text/x-python",
      "name": "python",
      "nbconvert_exporter": "python",
      "pygments_lexer": "ipython3",
      "version": "3.10.12"
    },
    "colab": {
      "provenance": [],
      "collapsed_sections": [
        "39GBRiUw9MAy",
        "3mwekgry9MA1",
        "S8P_mFrs9MBD"
      ]
    }
  },
  "nbformat": 4,
  "nbformat_minor": 0
}